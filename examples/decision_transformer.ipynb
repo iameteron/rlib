{
 "cells": [
  {
   "cell_type": "code",
   "execution_count": 1,
   "metadata": {},
   "outputs": [],
   "source": [
    "import os\n",
    "import pickle\n",
    "import sys\n",
    "\n",
    "import gymnasium as gym\n",
    "import matplotlib.pyplot as plt\n",
    "import numpy as np\n",
    "import torch\n",
    "from gymnasium.wrappers import RescaleAction\n",
    "from torch import nn\n",
    "from torch.optim import Adam\n",
    "from torch.utils.data import DataLoader, random_split\n",
    "\n",
    "sys.path.append(os.path.abspath(\"..\"))\n",
    "\n",
    "from rlib.algorithms.offline.dt import (\n",
    "    DecisionTransformer,\n",
    "    TrajectoryDataset,\n",
    "    dt_evaluation,\n",
    "    dt_train,\n",
    ")\n",
    "from rlib.common.buffer import RolloutBuffer\n",
    "from rlib.common.evaluation import validation\n",
    "\n",
    "%load_ext autoreload\n",
    "%autoreload 2"
   ]
  },
  {
   "cell_type": "markdown",
   "metadata": {},
   "source": [
    "### Environment"
   ]
  },
  {
   "cell_type": "code",
   "execution_count": 2,
   "metadata": {},
   "outputs": [],
   "source": [
    "env = gym.make(\"Pendulum-v1\", render_mode=\"rgb_array\")\n",
    "\n",
    "min_action, max_action = -1, 1\n",
    "env = RescaleAction(env, min_action, max_action)\n",
    "\n",
    "discrete = False\n",
    "\n",
    "reward_norm = 1000"
   ]
  },
  {
   "cell_type": "code",
   "execution_count": 3,
   "metadata": {},
   "outputs": [
    {
     "name": "stdout",
     "output_type": "stream",
     "text": [
      "3 1\n"
     ]
    }
   ],
   "source": [
    "obs_dim = env.observation_space.shape[0]\n",
    "\n",
    "if discrete:\n",
    "    action_dim = env.action_space.n\n",
    "else:\n",
    "    action_dim = env.action_space.shape[0]\n",
    "\n",
    "print(obs_dim, action_dim)"
   ]
  },
  {
   "cell_type": "markdown",
   "metadata": {},
   "source": [
    "### Expert"
   ]
  },
  {
   "cell_type": "code",
   "execution_count": 139,
   "metadata": {},
   "outputs": [],
   "source": [
    "with open(\"./models/pendulum_stoc_expert\", \"rb\") as file:\n",
    "    expert_actor = pickle.load(file)"
   ]
  },
  {
   "cell_type": "code",
   "execution_count": 140,
   "metadata": {},
   "outputs": [
    {
     "data": {
      "text/plain": [
       "-165.09818947030627"
      ]
     },
     "execution_count": 140,
     "metadata": {},
     "output_type": "execute_result"
    }
   ],
   "source": [
    "validation(env, expert_actor, deterministic=True)"
   ]
  },
  {
   "cell_type": "code",
   "execution_count": 111,
   "metadata": {},
   "outputs": [],
   "source": [
    "rb = RolloutBuffer()\n",
    "rb.collect_rollouts(env, expert_actor, trajectories_n=1000)"
   ]
  },
  {
   "cell_type": "code",
   "execution_count": 10,
   "metadata": {},
   "outputs": [
    {
     "name": "stderr",
     "output_type": "stream",
     "text": [
      "/app/rlib/common/buffer.py:34: UserWarning: Creating a tensor from a list of numpy.ndarrays is extremely slow. Please consider converting the list to a single numpy.ndarray with numpy.array() before converting to a tensor. (Triggered internally at /pytorch/torch/csrc/utils/tensor_new.cpp:254.)\n",
      "  return torch.tensor(value, dtype=dtype)\n"
     ]
    }
   ],
   "source": [
    "data = rb.get_data()"
   ]
  },
  {
   "cell_type": "code",
   "execution_count": 11,
   "metadata": {},
   "outputs": [],
   "source": [
    "torch.save(data, \"./models/pendulum_expert_data\")"
   ]
  },
  {
   "cell_type": "code",
   "execution_count": 165,
   "metadata": {},
   "outputs": [],
   "source": [
    "data = torch.load(\"./models/pendulum_expert_data\")"
   ]
  },
  {
   "cell_type": "markdown",
   "metadata": {},
   "source": [
    "### Expert Data"
   ]
  },
  {
   "cell_type": "code",
   "execution_count": 4,
   "metadata": {},
   "outputs": [],
   "source": [
    "expert_data = torch.load(\"./models/pendulum_expert_data_norm_rtg\")"
   ]
  },
  {
   "cell_type": "code",
   "execution_count": 5,
   "metadata": {},
   "outputs": [],
   "source": [
    "rb = RolloutBuffer()\n",
    "expert_trajectories = rb.get_trajectories(expert_data)"
   ]
  },
  {
   "cell_type": "code",
   "execution_count": 6,
   "metadata": {},
   "outputs": [
    {
     "data": {
      "text/plain": [
       "3000"
      ]
     },
     "execution_count": 6,
     "metadata": {},
     "output_type": "execute_result"
    }
   ],
   "source": [
    "len(expert_trajectories)"
   ]
  },
  {
   "cell_type": "markdown",
   "metadata": {},
   "source": [
    "### Dataset"
   ]
  },
  {
   "cell_type": "code",
   "execution_count": null,
   "metadata": {},
   "outputs": [
    {
     "name": "stdout",
     "output_type": "stream",
     "text": [
      "594000\n"
     ]
    }
   ],
   "source": [
    "K = 3\n",
    "\n",
    "dataset = TrajectoryDataset(expert_trajectories, K)\n",
    "print(len(dataset))"
   ]
  },
  {
   "cell_type": "code",
   "execution_count": null,
   "metadata": {},
   "outputs": [],
   "source": [
    "train_size = int(0.8 * len(dataset))\n",
    "test_size = len(dataset) - train_size\n",
    "\n",
    "train_dataset, test_dataset = random_split(dataset, (train_size, test_size))\n",
    "train_dataloader = DataLoader(train_dataset, batch_size=256, shuffle=True)\n",
    "test_dataloader = DataLoader(test_dataset, batch_size=256, shuffle=True)"
   ]
  },
  {
   "cell_type": "markdown",
   "metadata": {},
   "source": [
    "### Training"
   ]
  },
  {
   "cell_type": "code",
   "execution_count": 29,
   "metadata": {},
   "outputs": [
    {
     "data": {
      "text/plain": [
       "'cuda'"
      ]
     },
     "execution_count": 29,
     "metadata": {},
     "output_type": "execute_result"
    }
   ],
   "source": [
    "device = \"cuda\" if torch.cuda.is_available() else \"cpu\"\n",
    "device"
   ]
  },
  {
   "cell_type": "code",
   "execution_count": 16,
   "metadata": {},
   "outputs": [],
   "source": [
    "trajectory_len = 200\n",
    "\n",
    "decision_transformer = DecisionTransformer(\n",
    "    obs_dim,\n",
    "    action_dim,\n",
    "    trajectory_len,\n",
    "    nhead=4,\n",
    "    num_layers=3,\n",
    ").to(device)\n",
    "\n",
    "optimizer = Adam(decision_transformer.parameters(), lr=1e-3)"
   ]
  },
  {
   "cell_type": "code",
   "execution_count": 17,
   "metadata": {},
   "outputs": [],
   "source": [
    "target_return = -0.1\n",
    "\n",
    "dt_train(\n",
    "    decision_transformer,\n",
    "    optimizer,\n",
    "    train_dataloader,\n",
    "    test_dataloader,\n",
    "    total_epochs=10,\n",
    "    device=device,\n",
    "    target_return=target_return,\n",
    "    reward_norm=reward_norm,\n",
    "    K=K,\n",
    ")"
   ]
  },
  {
   "cell_type": "code",
   "execution_count": 27,
   "metadata": {},
   "outputs": [
    {
     "name": "stdout",
     "output_type": "stream",
     "text": [
      "-255.32310444720628\n"
     ]
    }
   ],
   "source": [
    "target_return = 0\n",
    "\n",
    "traj = dt_evaluation(decision_transformer, env, target_return, reward_norm, K)\n",
    "print(sum(traj[\"rewards\"]))"
   ]
  },
  {
   "cell_type": "markdown",
   "metadata": {},
   "source": [
    "## db"
   ]
  },
  {
   "cell_type": "code",
   "execution_count": 182,
   "metadata": {},
   "outputs": [
    {
     "data": {
      "text/plain": [
       "[<matplotlib.lines.Line2D at 0x7f2f046301c0>]"
      ]
     },
     "execution_count": 182,
     "metadata": {},
     "output_type": "execute_result"
    },
    {
     "data": {
      "image/png": "[encoded data removed]",
      "text/plain": [
       "<Figure size 640x480 with 1 Axes>"
      ]
     },
     "metadata": {},
     "output_type": "display_data"
    }
   ],
   "source": [
    "traj = expert_trajectories[4]\n",
    "# traj = trajectories[0]\n",
    "i = 100\n",
    "K = 5\n",
    "\n",
    "# print(traj[\"q_estimations\"].detach().numpy())\n",
    "plt.plot(traj[\"q_estimations\"].detach().numpy())"
   ]
  },
  {
   "cell_type": "code",
   "execution_count": null,
   "metadata": {},
   "outputs": [],
   "source": []
  },
  {
   "cell_type": "code",
   "execution_count": 17,
   "metadata": {},
   "outputs": [],
   "source": [
    "with open(\"./models/pendulum_stoc_expert\", \"rb\") as file:\n",
    "    expert_actor = pickle.load(file)"
   ]
  },
  {
   "cell_type": "code",
   "execution_count": 578,
   "metadata": {},
   "outputs": [],
   "source": [
    "traj = expert_trajectories[101]"
   ]
  },
  {
   "cell_type": "code",
   "execution_count": 595,
   "metadata": {},
   "outputs": [
    {
     "name": "stdout",
     "output_type": "stream",
     "text": [
      "tensor([[[-0.0011]]], device='cuda:0') tensor([[[ 0.9981, -0.0614,  0.0568]]], device='cuda:0') tensor([[[1.]]], device='cuda:0') tensor([[[55]]], device='cuda:0')\n",
      "tensor([[[1.]]], device='cuda:0')\n",
      "tensor([[[0.1214]]], device='cuda:0', grad_fn=<TanhBackward0>)\n",
      "(tensor([[[-0.1527]]]), tensor([[3.4046]], grad_fn=<ViewBackward0>))\n"
     ]
    }
   ],
   "source": [
    "i = np.random.randint(0, 150)\n",
    "K = 1\n",
    "\n",
    "R = traj[\"q_estimations\"][i : i + K].unsqueeze(0)\n",
    "s = traj[\"observations\"][i : i + K].unsqueeze(0)\n",
    "a = traj[\"actions\"][i : i + K].unsqueeze(0)\n",
    "t = traj[\"timesteps\"][i : i + K].unsqueeze(0)\n",
    "\n",
    "a = torch.ones_like(a)\n",
    "\n",
    "R, s, a, t = R.to(device), s.to(device), a.to(device), t.to(device)\n",
    "\n",
    "a_dt = decision_transformer.forward(R, s, a, t)\n",
    "a_expert = expert_actor.get_action(s.to(\"cpu\"), deterministic=False)\n",
    "\n",
    "print(R, s, a, t)\n",
    "\n",
    "print(a)\n",
    "print(a_dt)\n",
    "print(a_expert)"
   ]
  },
  {
   "cell_type": "code",
   "execution_count": null,
   "metadata": {},
   "outputs": [],
   "source": []
  },
  {
   "cell_type": "code",
   "execution_count": null,
   "metadata": {},
   "outputs": [
    {
     "name": "stderr",
     "output_type": "stream",
     "text": [
      "/usr/local/lib/python3.10/dist-packages/torch/nn/modules/transformer.py:385: UserWarning: enable_nested_tensor is True, but self.use_nested_tensor is False because encoder_layer.self_attn.num_heads is odd\n",
      "  warnings.warn(\n"
     ]
    }
   ],
   "source": [
    "dl = nn.TransformerEncoderLayer(\n",
    "    d_model=4,\n",
    "    nhead=1,\n",
    "    batch_first=True,\n",
    ")\n",
    "m = nn.TransformerEncoder(dl, num_layers=1)\n",
    "m.eval()"
   ]
  },
  {
   "cell_type": "code",
   "execution_count": 558,
   "metadata": {},
   "outputs": [
    {
     "name": "stdout",
     "output_type": "stream",
     "text": [
      "tensor([[[2., 2., 2., 2.],\n",
      "         [1., 1., 1., 1.],\n",
      "         [0., 0., 0., 0.]]]) torch.Size([1, 3, 4])\n",
      "tensor([[[ 0.9142,  1.0790, -0.9135, -1.0797],\n",
      "         [ 0.9142,  1.0790, -0.9135, -1.0797],\n",
      "         [ 0.9142,  1.0790, -0.9135, -1.0797]]],\n",
      "       grad_fn=<NativeLayerNormBackward0>) torch.Size([1, 3, 4])\n"
     ]
    }
   ],
   "source": [
    "R_emb = torch.FloatTensor([[2, 2, 2, 2]])\n",
    "s_emb = torch.FloatTensor([[1, 1, 1, 1]])\n",
    "a_emb = torch.FloatTensor([[0, 0, 0, 0]])\n",
    "\n",
    "token = torch.stack((R_emb, s_emb, a_emb), dim=1)\n",
    "print(token, token.shape)\n",
    "\n",
    "out = m.forward(token, mask)\n",
    "print(out, out.shape)"
   ]
  },
  {
   "cell_type": "code",
   "execution_count": 568,
   "metadata": {},
   "outputs": [
    {
     "name": "stdout",
     "output_type": "stream",
     "text": [
      "1 2 4\n",
      "tensor([[[ 0.9142,  1.0790, -0.9135, -1.0797],\n",
      "         [ 1.0420,  0.9542, -0.9234, -1.0728],\n",
      "         [-0.6949,  1.4707, -1.1136,  0.3377],\n",
      "         [ 0.9156,  1.0775, -0.9115, -1.0816],\n",
      "         [ 0.9130,  1.0587, -0.7601, -1.2116],\n",
      "         [ 0.2592,  1.4622, -0.4649, -1.2565]]],\n",
      "       grad_fn=<NativeLayerNormBackward0>) torch.Size([1, 6, 4])\n",
      "tensor([[[[ 0.9142,  1.0790, -0.9135, -1.0797],\n",
      "          [ 0.9156,  1.0775, -0.9115, -1.0816]],\n",
      "\n",
      "         [[ 1.0420,  0.9542, -0.9234, -1.0728],\n",
      "          [ 0.9130,  1.0587, -0.7601, -1.2116]],\n",
      "\n",
      "         [[-0.6949,  1.4707, -1.1136,  0.3377],\n",
      "          [ 0.2592,  1.4622, -0.4649, -1.2565]]]], grad_fn=<PermuteBackward0>) torch.Size([1, 3, 2, 4])\n",
      "tensor([[[-0.6949,  1.4707, -1.1136,  0.3377],\n",
      "         [ 0.2592,  1.4622, -0.4649, -1.2565]]], grad_fn=<SelectBackward0>) torch.Size([1, 2, 4])\n"
     ]
    }
   ],
   "source": [
    "R_emb = torch.FloatTensor([[[5, 5, 5, 5], [4, 4, 4, 4]]])\n",
    "s_emb = torch.FloatTensor([[[2, 2, -2, -2], [2, 3, -2, -3]]])\n",
    "a_emb = torch.FloatTensor([[[0, 0, 1, 1], [0, 1, 1, 0]]])\n",
    "\n",
    "B, T, C = R_emb.shape\n",
    "print(B, T, C)\n",
    "\n",
    "token_emb = torch.stack((R_emb, s_emb, a_emb), dim=1)  # (B, 3, T, C)\n",
    "# print(token_emb, token_emb.shape)\n",
    "\n",
    "token_emb = token_emb.permute(0, 2, 1, 3).reshape(B, 3 * T, C)  # (B, 3T, C)\n",
    "# print(token_emb, token_emb.shape)\n",
    "\n",
    "mask = nn.Transformer.generate_square_subsequent_mask(3 * T)\n",
    "\n",
    "out = m.forward(token_emb, mask)\n",
    "print(out, out.shape)\n",
    "\n",
    "out = out.reshape(B, T, 3, C).permute(0, 2, 1, 3)  # (B, 3, T, C)\n",
    "print(out, out.shape)\n",
    "\n",
    "a_hidden = out[:, 2]\n",
    "print(a_hidden, a_hidden.shape)"
   ]
  },
  {
   "cell_type": "code",
   "execution_count": 572,
   "metadata": {},
   "outputs": [
    {
     "name": "stdout",
     "output_type": "stream",
     "text": [
      "1 2 4\n",
      "tensor([[[ 0.9142,  1.0790, -0.9135, -1.0797],\n",
      "         [ 1.0420,  0.9542, -0.9234, -1.0728],\n",
      "         [ 1.7281, -0.5074, -0.5357, -0.6849],\n",
      "         [ 0.9141,  1.0790, -0.9135, -1.0796],\n",
      "         [ 0.8899,  1.0843, -0.7823, -1.1918],\n",
      "         [-0.0038,  1.6179, -0.6075, -1.0066]]],\n",
      "       grad_fn=<NativeLayerNormBackward0>) torch.Size([1, 6, 4])\n",
      "tensor([[[[ 0.9142,  1.0790, -0.9135, -1.0797],\n",
      "          [ 0.9141,  1.0790, -0.9135, -1.0796]],\n",
      "\n",
      "         [[ 1.0420,  0.9542, -0.9234, -1.0728],\n",
      "          [ 0.8899,  1.0843, -0.7823, -1.1918]],\n",
      "\n",
      "         [[ 1.7281, -0.5074, -0.5357, -0.6849],\n",
      "          [-0.0038,  1.6179, -0.6075, -1.0066]]]], grad_fn=<PermuteBackward0>) torch.Size([1, 3, 2, 4])\n",
      "tensor([[[ 1.7281, -0.5074, -0.5357, -0.6849],\n",
      "         [-0.0038,  1.6179, -0.6075, -1.0066]]], grad_fn=<SelectBackward0>) torch.Size([1, 2, 4])\n"
     ]
    }
   ],
   "source": [
    "R_emb = torch.FloatTensor([[[5, 5, 5, 5], [4, 4, 4, 4]]])\n",
    "s_emb = torch.FloatTensor([[[2, 2, -2, -2], [2, 3, -2, -3]]])\n",
    "a_emb = torch.FloatTensor([[[10, 0, 1, 1], [0, 1, 1, 0]]])\n",
    "\n",
    "B, T, C = R_emb.shape\n",
    "print(B, T, C)\n",
    "\n",
    "token_emb = torch.stack((R_emb, s_emb, a_emb), dim=1)  # (B, 3, T, C)\n",
    "# print(token_emb, token_emb.shape)\n",
    "\n",
    "token_emb = token_emb.permute(0, 2, 1, 3).reshape(B, 3 * T, C)  # (B, 3T, C)\n",
    "# print(token_emb, token_emb.shape)\n",
    "\n",
    "mask = nn.Transformer.generate_square_subsequent_mask(3 * T)\n",
    "\n",
    "out = m.forward(token_emb, mask)\n",
    "print(out, out.shape)\n",
    "\n",
    "out = out.reshape(B, T, 3, C).permute(0, 2, 1, 3)  # (B, 3, T, C)\n",
    "print(out, out.shape)\n",
    "\n",
    "a_hidden = out[:, 2]\n",
    "print(a_hidden, a_hidden.shape)"
   ]
  },
  {
   "cell_type": "code",
   "execution_count": null,
   "metadata": {},
   "outputs": [],
   "source": []
  },
  {
   "cell_type": "code",
   "execution_count": 599,
   "metadata": {},
   "outputs": [
    {
     "name": "stdout",
     "output_type": "stream",
     "text": [
      "tensor([[[-0.1000]]], device='cuda:0') tensor([[[ 0.8911, -0.4538,  0.4039]]], device='cuda:0') tensor([[[0.9000]]], device='cuda:0') tensor([[[0]]], device='cuda:0')\n",
      "tensor([[0.3137]], device='cuda:0')\n",
      "tensor([[[0.9960]]])\n",
      "\n"
     ]
    }
   ],
   "source": [
    "obs, _ = env.reset()\n",
    "action = np.array([0.9])\n",
    "\n",
    "R = torch.tensor(target_return, dtype=torch.float32, device=device).reshape(1, 1, 1)\n",
    "s = torch.tensor(obs, dtype=torch.float32, device=device).reshape(1, 1, -1)\n",
    "a = torch.tensor(action, dtype=torch.float32, device=device).reshape(1, 1, -1)\n",
    "t = torch.tensor(0, device=device).reshape(1, 1, 1)\n",
    "\n",
    "print(R, s, a, t)\n",
    "\n",
    "while True:\n",
    "    with torch.no_grad():\n",
    "        a_pred = decision_transformer.forward(R, s, a, t)[:, -1, :]\n",
    "        # print(model.forward(R, s, a, t))\n",
    "        print(a_pred)\n",
    "        print(expert_actor.get_action(s.to(\"cpu\"))[0])\n",
    "        print()\n",
    "\n",
    "    break"
   ]
  },
  {
   "cell_type": "code",
   "execution_count": null,
   "metadata": {},
   "outputs": [],
   "source": []
  },
  {
   "cell_type": "code",
   "execution_count": null,
   "metadata": {},
   "outputs": [],
   "source": [
    "obs, _ = env.reset()\n",
    "action = np.zeros_like(env.action_space.sample())\n",
    "\n",
    "R = torch.tensor(target_return, dtype=torch.float32, device=device).reshape(1, 1, 1)\n",
    "s = torch.tensor(obs, dtype=torch.float32, device=device).reshape(1, 1, -1)\n",
    "a = torch.tensor(action, dtype=torch.float32, device=device).reshape(1, 1, -1)\n",
    "t = torch.tensor(0, device=device).reshape(1, 1, 1)\n",
    "\n",
    "while True:\n",
    "    with torch.no_grad():\n",
    "        a_pred = decision_transformer.forward(R, s, a, t)[:, -1, :]\n",
    "        # print(model.forward(R, s, a, t))\n",
    "        print(a_pred)\n",
    "        print(expert_actor.get_action(s.to(\"cpu\"))[0])\n",
    "        print()\n",
    "\n",
    "    a_pred = a_pred.reshape(1, 1, -1)\n",
    "\n",
    "    action = a_pred.squeeze().cpu().detach().numpy()\n",
    "\n",
    "    next_obs, reward, terminated, truncated, _ = env.step(action)\n",
    "\n",
    "    reward /= reward_norm\n",
    "\n",
    "    next_obs = torch.tensor(next_obs, dtype=torch.float32, device=device).reshape(\n",
    "        1, 1, -1\n",
    "    )\n",
    "    reward = torch.tensor(reward, dtype=torch.float32, device=device).reshape(1, 1, 1)\n",
    "\n",
    "    return_to_go = R[:, -1, :] - reward\n",
    "\n",
    "    # print(return_to_go)\n",
    "\n",
    "    timestep = t[:, -1, :] + 1\n",
    "    timestep = timestep.reshape(1, 1, 1)\n",
    "\n",
    "    R = torch.cat((R, return_to_go), dim=1)[:, -K:, :]\n",
    "    s = torch.cat((s, next_obs), dim=1)[:, -K:, :]\n",
    "    a = torch.cat((a, a_pred), dim=1)[:, -K:, :]\n",
    "    t = torch.cat((t, timestep), dim=1)[:, -K:, :]\n"
   ]
  },
  {
   "cell_type": "code",
   "execution_count": null,
   "metadata": {},
   "outputs": [],
   "source": []
  },
  {
   "cell_type": "code",
   "execution_count": 178,
   "metadata": {},
   "outputs": [
    {
     "data": {
      "image/png": "[encoded data removed]",
      "text/plain": [
       "<Figure size 640x480 with 1 Axes>"
      ]
     },
     "metadata": {},
     "output_type": "display_data"
    }
   ],
   "source": [
    "import matplotlib.pyplot as plt\n",
    "\n",
    "real_actions = []\n",
    "pred_actions = []\n",
    "\n",
    "for i in range(15):  # 100 рандомных примеров\n",
    "    R = traj[\"q_estimations\"][i : i + K].unsqueeze(0).to(device)\n",
    "    s = traj[\"observations\"][i : i + K].unsqueeze(0).to(device)\n",
    "    a = traj[\"actions\"][i : i + K].unsqueeze(0).to(device)\n",
    "    t = traj[\"timesteps\"][i : i + K].unsqueeze(0).to(device)\n",
    "\n",
    "    a_pred = decision_transformer.forward(R, s, a, t).detach().cpu().numpy()\n",
    "\n",
    "    real_actions.extend(a.cpu().numpy().flatten())\n",
    "    pred_actions.extend(a_pred.flatten())\n",
    "\n",
    "plt.plot(real_actions, label=\"Real\")\n",
    "plt.plot(pred_actions, label=\"Predicted\", linestyle=\"dashed\")\n",
    "plt.legend()\n",
    "plt.show()"
   ]
  },
  {
   "cell_type": "code",
   "execution_count": null,
   "metadata": {},
   "outputs": [],
   "source": []
  },
  {
   "cell_type": "code",
   "execution_count": 42,
   "metadata": {},
   "outputs": [],
   "source": [
    "def compare(target_return=-150):\n",
    "    obs, _ = env.reset()\n",
    "\n",
    "    # action, _ = expert_actor.predict(obs, deterministic=True)\n",
    "    action = env.action_space.sample()\n",
    "\n",
    "    R = torch.tensor(target_return, dtype=torch.float32, device=device).reshape(1, 1, 1)\n",
    "    s = torch.tensor(obs, dtype=torch.float32, device=device).reshape(1, 1, -1)\n",
    "    a = torch.tensor(action, dtype=torch.float32, device=device).reshape(1, 1, -1)\n",
    "    t = torch.tensor(0, device=device).reshape(1, 1, 1)\n",
    "\n",
    "    rewards = []\n",
    "    expert_actions = []\n",
    "    dt_actions = []\n",
    "\n",
    "    while True:\n",
    "        with torch.no_grad():\n",
    "            a_pred = decision_transformer.forward(R, s, a, t)[:, -1, :]\n",
    "        a_pred = a_pred.reshape(1, 1, -1)\n",
    "\n",
    "        dt_action = a_pred.squeeze().cpu().detach().numpy()\n",
    "        expert_action, _ = expert_actor.predict(obs, deterministic=True)\n",
    "\n",
    "        next_obs, reward, terminated, truncated, _ = env.step(expert_action)\n",
    "\n",
    "        obs = next_obs\n",
    "\n",
    "        rewards.append(reward)\n",
    "\n",
    "        reward /= reward_norm\n",
    "        next_obs = torch.tensor(next_obs, dtype=torch.float32, device=device).reshape(\n",
    "            1, 1, -1\n",
    "        )\n",
    "        reward = torch.tensor(reward, dtype=torch.float32, device=device).reshape(\n",
    "            1, 1, 1\n",
    "        )\n",
    "\n",
    "        return_to_go = R[:, -1, :] - reward\n",
    "        timestep = t[:, -1, :] + 1\n",
    "        timestep = timestep.reshape(1, 1, 1)\n",
    "\n",
    "        R = torch.cat((R, return_to_go), dim=1)[:, -K:, :]\n",
    "        s = torch.cat((s, next_obs), dim=1)[:, -K:, :]\n",
    "        a = torch.cat((a, a_pred), dim=1)[:, -K:, :]\n",
    "        t = torch.cat((t, timestep), dim=1)[:, -K:, :]\n",
    "\n",
    "        if terminated or truncated:\n",
    "            break\n",
    "\n",
    "        expert_actions.append(expert_action)\n",
    "        dt_actions.append(dt_action)\n",
    "\n",
    "    plt.figure(figsize=(9, 5))\n",
    "    plt.plot(expert_actions, label=f\"Expert Episode\", linestyle=\"solid\")\n",
    "    plt.plot(dt_actions, label=f\"DT Episode\", linestyle=\"dashed\")\n",
    "\n",
    "    plt.ylim((-1.2, 1.2))\n",
    "    plt.xlabel(\"Timesteps\")\n",
    "    plt.ylabel(\"Action\")\n",
    "    plt.title(\"Comparison of Expert and DT Actions\")\n",
    "    plt.legend()\n",
    "    plt.show()\n",
    "\n",
    "    print(sum(rewards))"
   ]
  },
  {
   "cell_type": "code",
   "execution_count": 50,
   "metadata": {},
   "outputs": [
    {
     "data": {
      "image/png": "[encoded data removed]",
      "text/plain": [
       "<Figure size 900x500 with 1 Axes>"
      ]
     },
     "metadata": {},
     "output_type": "display_data"
    },
    {
     "name": "stdout",
     "output_type": "stream",
     "text": [
      "-234.73480774367852\n"
     ]
    }
   ],
   "source": [
    "compare(target_return=1000)"
   ]
  },
  {
   "cell_type": "code",
   "execution_count": null,
   "metadata": {},
   "outputs": [],
   "source": []
  },
  {
   "cell_type": "code",
   "execution_count": null,
   "metadata": {},
   "outputs": [],
   "source": [
    "evaluation(decision_transformer, env, -150, 5)"
   ]
  },
  {
   "cell_type": "code",
   "execution_count": 270,
   "metadata": {},
   "outputs": [],
   "source": [
    "B, T, C = 2, 4, 3"
   ]
  },
  {
   "cell_type": "code",
   "execution_count": 271,
   "metadata": {},
   "outputs": [],
   "source": [
    "R = 1 * torch.ones((B, T, C))\n",
    "s = 2 * torch.ones((B, T, C))\n",
    "a = 3 * torch.ones((B, T, C))"
   ]
  },
  {
   "cell_type": "code",
   "execution_count": 272,
   "metadata": {},
   "outputs": [
    {
     "data": {
      "text/plain": [
       "tensor([[[1., 1., 1.],\n",
       "         [1., 1., 1.],\n",
       "         [1., 1., 1.],\n",
       "         [1., 1., 1.],\n",
       "         [2., 2., 2.],\n",
       "         [2., 2., 2.],\n",
       "         [2., 2., 2.],\n",
       "         [2., 2., 2.],\n",
       "         [3., 3., 3.],\n",
       "         [3., 3., 3.],\n",
       "         [3., 3., 3.],\n",
       "         [3., 3., 3.]],\n",
       "\n",
       "        [[1., 1., 1.],\n",
       "         [1., 1., 1.],\n",
       "         [1., 1., 1.],\n",
       "         [1., 1., 1.],\n",
       "         [2., 2., 2.],\n",
       "         [2., 2., 2.],\n",
       "         [2., 2., 2.],\n",
       "         [2., 2., 2.],\n",
       "         [3., 3., 3.],\n",
       "         [3., 3., 3.],\n",
       "         [3., 3., 3.],\n",
       "         [3., 3., 3.]]])"
      ]
     },
     "execution_count": 272,
     "metadata": {},
     "output_type": "execute_result"
    }
   ],
   "source": [
    "tokens = torch.cat((R, s, a), dim=1)\n",
    "tokens"
   ]
  },
  {
   "cell_type": "code",
   "execution_count": 276,
   "metadata": {},
   "outputs": [
    {
     "data": {
      "text/plain": [
       "(torch.Size([2, 4, 3, 3]),\n",
       " tensor([[[[1., 1., 1.],\n",
       "           [2., 2., 2.],\n",
       "           [3., 3., 3.]],\n",
       " \n",
       "          [[1., 1., 1.],\n",
       "           [2., 2., 2.],\n",
       "           [3., 3., 3.]],\n",
       " \n",
       "          [[1., 1., 1.],\n",
       "           [2., 2., 2.],\n",
       "           [3., 3., 3.]],\n",
       " \n",
       "          [[1., 1., 1.],\n",
       "           [2., 2., 2.],\n",
       "           [3., 3., 3.]]],\n",
       " \n",
       " \n",
       "         [[[1., 1., 1.],\n",
       "           [2., 2., 2.],\n",
       "           [3., 3., 3.]],\n",
       " \n",
       "          [[1., 1., 1.],\n",
       "           [2., 2., 2.],\n",
       "           [3., 3., 3.]],\n",
       " \n",
       "          [[1., 1., 1.],\n",
       "           [2., 2., 2.],\n",
       "           [3., 3., 3.]],\n",
       " \n",
       "          [[1., 1., 1.],\n",
       "           [2., 2., 2.],\n",
       "           [3., 3., 3.]]]]))"
      ]
     },
     "execution_count": 276,
     "metadata": {},
     "output_type": "execute_result"
    }
   ],
   "source": [
    "tokens = torch.stack((R, s, a), dim=2)\n",
    "tokens.shape, tokens"
   ]
  },
  {
   "cell_type": "code",
   "execution_count": null,
   "metadata": {},
   "outputs": [],
   "source": []
  },
  {
   "cell_type": "code",
   "execution_count": 262,
   "metadata": {},
   "outputs": [],
   "source": [
    "batch = next(iter(dataloader))"
   ]
  },
  {
   "cell_type": "code",
   "execution_count": 263,
   "metadata": {},
   "outputs": [
    {
     "data": {
      "text/plain": [
       "[tensor([[[-51.6459],\n",
       "          [-54.7376],\n",
       "          [-58.0769],\n",
       "          [-61.2564],\n",
       "          [-63.7972]]]),\n",
       " tensor([[[ 0.0372, -0.9993,  0.5102],\n",
       "          [ 0.0102, -0.9999, -0.5390],\n",
       "          [-0.0692, -0.9976, -1.5889],\n",
       "          [-0.1997, -0.9799, -2.6371],\n",
       "          [-0.3753, -0.9269, -3.6720]]]),\n",
       " tensor([[[-0.9991],\n",
       "          [-0.9997],\n",
       "          [-1.0002],\n",
       "          [-1.0001],\n",
       "          [-0.9999]]]),\n",
       " tensor([[0, 1, 2, 3, 4]])]"
      ]
     },
     "execution_count": 263,
     "metadata": {},
     "output_type": "execute_result"
    }
   ],
   "source": [
    "batch"
   ]
  },
  {
   "cell_type": "code",
   "execution_count": null,
   "metadata": {},
   "outputs": [],
   "source": []
  },
  {
   "cell_type": "code",
   "execution_count": null,
   "metadata": {},
   "outputs": [],
   "source": [
    "num_embeddings = 10\n",
    "embedding_dim = 32\n",
    "\n",
    "emb_table = nn.Embedding(num_embeddings, embedding_dim)"
   ]
  },
  {
   "cell_type": "code",
   "execution_count": null,
   "metadata": {},
   "outputs": [
    {
     "data": {
      "text/plain": [
       "torch.Size([4, 10, 32])"
      ]
     },
     "metadata": {},
     "output_type": "display_data"
    }
   ],
   "source": [
    "embedding_dim = 32\n",
    "\n",
    "decoder_layer = nn.TransformerDecoderLayer(\n",
    "    d_model=embedding_dim,\n",
    "    nhead=4,\n",
    "    batch_first=True,\n",
    ")\n",
    "\n",
    "transformer = nn.TransformerDecoder(decoder_layer, num_layers=3)\n",
    "\n",
    "B = 4\n",
    "T = 10\n",
    "C = embedding_dim\n",
    "\n",
    "tgt = torch.zeros((B, T, C))\n",
    "tgt_mask = nn.Transformer.generate_square_subsequent_mask(T)\n",
    "\n",
    "memory = torch.zeros((B, 1, C))\n",
    "\n",
    "transformer.forward(\n",
    "    tgt=tgt,\n",
    "    memory=memory,\n",
    "    tgt_mask=tgt_mask,\n",
    ").shape"
   ]
  },
  {
   "cell_type": "code",
   "execution_count": null,
   "metadata": {},
   "outputs": [],
   "source": []
  }
 ],
 "metadata": {
  "kernelspec": {
   "display_name": "Python 3",
   "language": "python",
   "name": "python3"
  },
  "language_info": {
   "codemirror_mode": {
    "name": "ipython",
    "version": 3
   },
   "file_extension": ".py",
   "mimetype": "text/x-python",
   "name": "python",
   "nbconvert_exporter": "python",
   "pygments_lexer": "ipython3",
   "version": "3.10.12"
  }
 },
 "nbformat": 4,
 "nbformat_minor": 2
}
