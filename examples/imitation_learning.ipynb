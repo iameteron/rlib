{
 "cells": [
  {
   "cell_type": "code",
   "execution_count": 1,
   "metadata": {},
   "outputs": [],
   "source": [
    "import os\n",
    "import sys\n",
    "import pickle\n",
    "from copy import deepcopy\n",
    "\n",
    "import gymnasium as gym\n",
    "import matplotlib.pyplot as plt\n",
    "import numpy as np\n",
    "import torch\n",
    "from gymnasium.wrappers import RescaleAction\n",
    "from torch import nn\n",
    "from torch.distributions import Normal\n",
    "from torch.optim import Adam\n",
    "\n",
    "sys.path.append(os.path.abspath(\"..\"))\n",
    "\n",
    "from rlib.algorithms.sac import sac\n",
    "from rlib.common.buffer import RolloutBuffer, ReplayBuffer\n",
    "from rlib.common.policies import DeterministicMlpPolicy, StochasticMlpPolicy, MlpQCritic\n",
    "from rlib.common.evaluation import get_trajectory, validation\n",
    "from rlib.common.logger import TensorBoardLogger\n",
    "\n",
    "%load_ext autoreload\n",
    "%autoreload 2"
   ]
  },
  {
   "cell_type": "code",
   "execution_count": 2,
   "metadata": {},
   "outputs": [],
   "source": [
    "env = gym.make(\"Pendulum-v1\", render_mode=\"rgb_array\")\n",
    "\n",
    "min_action, max_action = -1, 1\n",
    "env = RescaleAction(env, min_action, max_action)"
   ]
  },
  {
   "cell_type": "code",
   "execution_count": 3,
   "metadata": {},
   "outputs": [
    {
     "name": "stdout",
     "output_type": "stream",
     "text": [
      "3 1\n"
     ]
    }
   ],
   "source": [
    "obs_dim = env.observation_space.shape[0]\n",
    "action_dim = env.action_space.shape[0]\n",
    "\n",
    "print(obs_dim, action_dim)"
   ]
  },
  {
   "cell_type": "markdown",
   "metadata": {},
   "source": [
    "## GCL"
   ]
  },
  {
   "cell_type": "markdown",
   "metadata": {},
   "source": [
    "### Expert"
   ]
  },
  {
   "cell_type": "code",
   "execution_count": 4,
   "metadata": {},
   "outputs": [],
   "source": [
    "actor = StochasticMlpPolicy(obs_dim, action_dim)\n",
    "critic_1 = MlpQCritic(obs_dim, action_dim)\n",
    "critic_2 = MlpQCritic(obs_dim, action_dim)\n",
    "\n",
    "actor_optimizer = Adam(actor.parameters(), lr=1e-4)\n",
    "critic_1_optimizer = Adam(critic_1.parameters(), lr=1e-3)\n",
    "critic_2_optimizer = Adam(critic_2.parameters(), lr=1e-3)"
   ]
  },
  {
   "cell_type": "code",
   "execution_count": 5,
   "metadata": {},
   "outputs": [],
   "source": [
    "sac(\n",
    "    env,\n",
    "    actor,\n",
    "    critic_1,\n",
    "    critic_2,\n",
    "    actor_optimizer,\n",
    "    critic_1_optimizer,\n",
    "    critic_2_optimizer,\n",
    ")"
   ]
  },
  {
   "cell_type": "code",
   "execution_count": null,
   "metadata": {},
   "outputs": [
    {
     "data": {
      "text/plain": [
       "-1090.8483348587272"
      ]
     },
     "execution_count": 9,
     "metadata": {},
     "output_type": "execute_result"
    }
   ],
   "source": [
    "validation(env, actor)"
   ]
  },
  {
   "cell_type": "code",
   "execution_count": null,
   "metadata": {},
   "outputs": [],
   "source": [
    "with open(\"./models/pendulum_stoc_expert\", \"w\") as file:\n",
    "    pickle.dump(actor, file)"
   ]
  },
  {
   "cell_type": "code",
   "execution_count": null,
   "metadata": {},
   "outputs": [],
   "source": [
    "with open(\"./models/pendulum_stoc_expert\", \"r\") as file:\n",
    "    expert_actor = pickle.load(file)"
   ]
  },
  {
   "cell_type": "code",
   "execution_count": null,
   "metadata": {},
   "outputs": [],
   "source": [
    "validation(env, expert_actor)"
   ]
  },
  {
   "cell_type": "code",
   "execution_count": null,
   "metadata": {},
   "outputs": [],
   "source": [
    "rb = RolloutBuffer()"
   ]
  },
  {
   "cell_type": "code",
   "execution_count": null,
   "metadata": {},
   "outputs": [],
   "source": [
    "rb.collect_rollouts(env, expert_actor, trajectories_n=30)"
   ]
  },
  {
   "cell_type": "code",
   "execution_count": null,
   "metadata": {},
   "outputs": [],
   "source": [
    "expert_data = rb.get_data()"
   ]
  },
  {
   "cell_type": "markdown",
   "metadata": {},
   "source": [
    "### Train"
   ]
  },
  {
   "cell_type": "code",
   "execution_count": null,
   "metadata": {},
   "outputs": [],
   "source": [
    "class RewardNet(nn.Module):\n",
    "    def __init__(self, obs_dim, action_dim, hidden_size=256):\n",
    "        super().__init__()\n",
    "        self.net = nn.Sequential(\n",
    "            nn.Linear(obs_dim + action_dim, hidden_size),\n",
    "            nn.ReLU(),\n",
    "            nn.Linear(hidden_size, hidden_size),\n",
    "            nn.ReLU(),\n",
    "            nn.Linear(hidden_size, 1),\n",
    "        )\n",
    "\n",
    "    def forward(self, observations, actions):\n",
    "        \"\"\"\n",
    "        Args:\n",
    "            observations (torch.Tensor): (B, obs_dim)\n",
    "            actions (torch.Tensor): (B, action_dim)\n",
    "\n",
    "        Returns:\n",
    "            q_values: (torch.Tensor): (B, 1)\n",
    "        \"\"\"\n",
    "        input = torch.cat((observations, actions), dim=1)\n",
    "        return self.net(input)"
   ]
  },
  {
   "cell_type": "code",
   "execution_count": null,
   "metadata": {},
   "outputs": [],
   "source": [
    "def gcl_loss():\n",
    "    pass"
   ]
  },
  {
   "cell_type": "code",
   "execution_count": null,
   "metadata": {},
   "outputs": [],
   "source": [
    "def gcl(\n",
    "    env: gym.Env,\n",
    "    expert_trajectories: dict[str, torch.Tensor],\n",
    "    learning_actor: DeterministicMlpPolicy,\n",
    "    actor_optimizer: Adam,\n",
    "    reward_net: RewardNet,\n",
    "    reward_optimizer: Adam,\n",
    "    total_episodes: int = 1000,\n",
    "):\n",
    "    obs_dim = env.observation_space.shape[0]\n",
    "    action_dim = env.action_space.shape[0]\n",
    "\n",
    "    replay_buffer = ReplayBuffer(obs_dim, action_dim)\n",
    "    rollout_buffer = RolloutBuffer()\n",
    "\n",
    "    logger = TensorBoardLogger(log_dir=\"./tb_logs/gcl_\")\n",
    "\n",
    "    for episode_n in range(total_episodes):\n",
    "\n",
    "        rollout_buffer.collect_rollouts(env, learning_actor, trajectories_n=30)\n",
    "        learning_trajectories = rollout_buffer.get_data()\n",
    "\n",
    "        loss = gcl_loss"
   ]
  },
  {
   "cell_type": "code",
   "execution_count": null,
   "metadata": {},
   "outputs": [],
   "source": [
    "def sac(\n",
    "    env: gym.Env,\n",
    "    actor: DeterministicMlpPolicy,\n",
    "    critic_1: MlpQCritic,\n",
    "    critic_2: MlpQCritic,\n",
    "    actor_optimizer: Adam,\n",
    "    critic_1_optimizer: Adam,\n",
    "    critic_2_optimizer: Adam,\n",
    "    training_starts: int = 1000,\n",
    "    total_timesteps: int = 50_000,\n",
    "    batch_size: int = 128,\n",
    "    target_update_frequency: int = 2,\n",
    "):\n",
    "    obs_dim = env.observation_space.shape[0]\n",
    "    action_dim = env.action_space.shape[0]\n",
    "    buffer = ReplayBuffer(obs_dim, action_dim)\n",
    "\n",
    "    logger = TensorBoardLogger(log_dir=\"./tb_logs/sac_\")\n",
    "\n",
    "    critic_1_target = deepcopy(critic_1)\n",
    "    critic_2_target = deepcopy(critic_2)\n",
    "\n",
    "    steps_n = 0\n",
    "    while steps_n < total_timesteps:\n",
    "        buffer.collect_transition(env, actor)\n",
    "        steps_n += 1\n",
    "\n",
    "        if buffer.size < training_starts:\n",
    "            continue\n",
    "\n",
    "        batch = buffer.get_batch(batch_size)\n",
    "\n",
    "        loss = sac_loss(\n",
    "            batch,\n",
    "            actor,\n",
    "            critic_1,\n",
    "            critic_2,\n",
    "            critic_1_target,\n",
    "            critic_2_target,\n",
    "        )\n",
    "\n",
    "        loss[\"actor\"].backward()\n",
    "        actor_optimizer.step()\n",
    "        actor_optimizer.zero_grad()\n",
    "\n",
    "        loss[\"critic_1\"].backward()\n",
    "        critic_1_optimizer.step()\n",
    "        critic_1_optimizer.zero_grad()\n",
    "\n",
    "        loss[\"critic_2\"].backward()\n",
    "        critic_2_optimizer.step()\n",
    "        critic_2_optimizer.zero_grad()\n",
    "\n",
    "        if steps_n % target_update_frequency == 0:\n",
    "            critic_1_target = smooth_update(critic_1, critic_1_target)\n",
    "            critic_2_target = smooth_update(critic_2, critic_2_target)\n",
    "\n",
    "        # Logging\n",
    "        steps_n += 1\n",
    "        logger.log_scalars(loss, steps_n)\n",
    "\n",
    "        if buffer.done:\n",
    "            trajectory = buffer.get_last_trajectory()\n",
    "            logger.log_trajectories(trajectory)\n"
   ]
  },
  {
   "cell_type": "code",
   "execution_count": null,
   "metadata": {},
   "outputs": [],
   "source": []
  },
  {
   "cell_type": "code",
   "execution_count": null,
   "metadata": {},
   "outputs": [],
   "source": []
  },
  {
   "cell_type": "code",
   "execution_count": null,
   "metadata": {},
   "outputs": [],
   "source": []
  },
  {
   "cell_type": "code",
   "execution_count": null,
   "metadata": {},
   "outputs": [],
   "source": []
  }
 ],
 "metadata": {
  "kernelspec": {
   "display_name": "rl-env",
   "language": "python",
   "name": "python3"
  },
  "language_info": {
   "codemirror_mode": {
    "name": "ipython",
    "version": 3
   },
   "file_extension": ".py",
   "mimetype": "text/x-python",
   "name": "python",
   "nbconvert_exporter": "python",
   "pygments_lexer": "ipython3",
   "version": "3.11.1"
  }
 },
 "nbformat": 4,
 "nbformat_minor": 2
}
