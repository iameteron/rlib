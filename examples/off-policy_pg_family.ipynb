{
 "cells": [
  {
   "cell_type": "code",
   "execution_count": 27,
   "metadata": {},
   "outputs": [
    {
     "name": "stdout",
     "output_type": "stream",
     "text": [
      "The autoreload extension is already loaded. To reload it, use:\n",
      "  %reload_ext autoreload\n"
     ]
    }
   ],
   "source": [
    "import os\n",
    "import sys\n",
    "from copy import deepcopy\n",
    "\n",
    "import gymnasium as gym\n",
    "import matplotlib.pyplot as plt\n",
    "import numpy as np\n",
    "import torch\n",
    "from gymnasium.wrappers import RescaleAction\n",
    "from torch import nn\n",
    "from torch.distributions import Normal\n",
    "from torch.optim import Adam\n",
    "\n",
    "sys.path.append(os.path.abspath(\"..\"))\n",
    "\n",
    "from rlib.algorithms.ddpg import ddpg\n",
    "from rlib.algorithms.sac import sac\n",
    "from rlib.algorithms.td3 import td3\n",
    "from rlib.common.evaluation import get_trajectory, validation\n",
    "from rlib.common.logger import TensorBoardLogger\n",
    "from rlib.common.policies import DeterministicMlpPolicy, MlpQCritic, StochasticMlpPolicy\n",
    "\n",
    "%load_ext autoreload\n",
    "%autoreload 2"
   ]
  },
  {
   "cell_type": "code",
   "execution_count": 23,
   "metadata": {},
   "outputs": [],
   "source": [
    "env = gym.make(\"Pendulum-v1\", render_mode=\"rgb_array\")\n",
    "\n",
    "min_action, max_action = -1, 1\n",
    "env = RescaleAction(env, min_action, max_action)"
   ]
  },
  {
   "cell_type": "code",
   "execution_count": 24,
   "metadata": {},
   "outputs": [
    {
     "name": "stdout",
     "output_type": "stream",
     "text": [
      "3 1\n"
     ]
    }
   ],
   "source": [
    "obs_dim = env.observation_space.shape[0]\n",
    "action_dim = env.action_space.shape[0]\n",
    "\n",
    "print(obs_dim, action_dim)"
   ]
  },
  {
   "cell_type": "markdown",
   "metadata": {},
   "source": [
    "### DDPG"
   ]
  },
  {
   "cell_type": "code",
   "execution_count": 8,
   "metadata": {},
   "outputs": [],
   "source": [
    "actor = DeterministicMlpPolicy(obs_dim, action_dim)\n",
    "critic = MlpQCritic(obs_dim, action_dim)\n",
    "\n",
    "actor_optimizer = Adam(actor.parameters(), lr=1e-4)\n",
    "critic_optimizer = Adam(critic.parameters(), lr=1e-3)"
   ]
  },
  {
   "cell_type": "code",
   "execution_count": 9,
   "metadata": {},
   "outputs": [],
   "source": [
    "ddpg(env, actor, critic, actor_optimizer, critic_optimizer, total_timesteps=100_000)"
   ]
  },
  {
   "cell_type": "code",
   "execution_count": 10,
   "metadata": {},
   "outputs": [
    {
     "data": {
      "text/plain": [
       "-163.82522944874415"
      ]
     },
     "execution_count": 10,
     "metadata": {},
     "output_type": "execute_result"
    }
   ],
   "source": [
    "validation(env, actor, deterministic=True)"
   ]
  },
  {
   "cell_type": "markdown",
   "metadata": {},
   "source": [
    "### TD3"
   ]
  },
  {
   "cell_type": "code",
   "execution_count": 28,
   "metadata": {},
   "outputs": [],
   "source": [
    "actor = DeterministicMlpPolicy(obs_dim, action_dim)\n",
    "critic_1 = MlpQCritic(obs_dim, action_dim)\n",
    "critic_2 = MlpQCritic(obs_dim, action_dim)\n",
    "\n",
    "actor_optimizer = Adam(actor.parameters(), lr=1e-4)\n",
    "critic_1_optimizer = Adam(critic_1.parameters(), lr=1e-3)\n",
    "critic_2_optimizer = Adam(critic_2.parameters(), lr=1e-3)"
   ]
  },
  {
   "cell_type": "code",
   "execution_count": null,
   "metadata": {},
   "outputs": [],
   "source": [
    "td3(\n",
    "    env,\n",
    "    actor,\n",
    "    critic_1,\n",
    "    critic_2,\n",
    "    actor_optimizer,\n",
    "    critic_1_optimizer,\n",
    "    critic_2_optimizer,\n",
    "    total_timesteps=100_000,\n",
    ")"
   ]
  },
  {
   "cell_type": "code",
   "execution_count": null,
   "metadata": {},
   "outputs": [
    {
     "data": {
      "text/plain": [
       "-1427.9277668169286"
      ]
     },
     "execution_count": 13,
     "metadata": {},
     "output_type": "execute_result"
    }
   ],
   "source": [
    "validation(env, actor, validation_n=100, deterministic=True)"
   ]
  },
  {
   "cell_type": "markdown",
   "metadata": {},
   "source": [
    "### SAC"
   ]
  },
  {
   "cell_type": "code",
   "execution_count": 14,
   "metadata": {},
   "outputs": [],
   "source": [
    "actor = StochasticMlpPolicy(obs_dim, action_dim)\n",
    "critic_1 = MlpQCritic(obs_dim, action_dim)\n",
    "critic_2 = MlpQCritic(obs_dim, action_dim)\n",
    "\n",
    "actor_optimizer = Adam(actor.parameters(), lr=1e-4)\n",
    "critic_1_optimizer = Adam(critic_1.parameters(), lr=1e-3)\n",
    "critic_2_optimizer = Adam(critic_2.parameters(), lr=1e-3)"
   ]
  },
  {
   "cell_type": "code",
   "execution_count": null,
   "metadata": {},
   "outputs": [],
   "source": [
    "sac(\n",
    "    env,\n",
    "    actor,\n",
    "    critic_1,\n",
    "    critic_2,\n",
    "    actor_optimizer,\n",
    "    critic_1_optimizer,\n",
    "    critic_2_optimizer,\n",
    "    total_timesteps=100_000,\n",
    ")"
   ]
  },
  {
   "cell_type": "code",
   "execution_count": 16,
   "metadata": {},
   "outputs": [
    {
     "data": {
      "text/plain": [
       "-155.05504681082755"
      ]
     },
     "execution_count": 16,
     "metadata": {},
     "output_type": "execute_result"
    }
   ],
   "source": [
    "validation(env, actor, deterministic=True)"
   ]
  },
  {
   "cell_type": "markdown",
   "metadata": {},
   "source": [
    "### db"
   ]
  },
  {
   "cell_type": "code",
   "execution_count": 42,
   "metadata": {},
   "outputs": [],
   "source": [
    "rb = ReplayBuffer(obs_dim, action_dim)"
   ]
  },
  {
   "cell_type": "code",
   "execution_count": 43,
   "metadata": {},
   "outputs": [],
   "source": [
    "for _ in range(20):\n",
    "    rb.collect_transition(env, actor)"
   ]
  },
  {
   "cell_type": "code",
   "execution_count": 44,
   "metadata": {},
   "outputs": [],
   "source": [
    "data = rb.get_batch(10)"
   ]
  },
  {
   "cell_type": "code",
   "execution_count": 47,
   "metadata": {},
   "outputs": [],
   "source": [
    "actor_target = deepcopy(actor)\n",
    "critic_target = deepcopy(critic)\n",
    "gamma = 0.99"
   ]
  },
  {
   "cell_type": "code",
   "execution_count": null,
   "metadata": {},
   "outputs": [],
   "source": [
    "critic_1_target = deepcopy(critic_1)\n",
    "critic_2_target = deepcopy(critic_2)\n",
    "\n",
    "policy_std = 0.2\n",
    "policy_clip = 0.5"
   ]
  },
  {
   "cell_type": "code",
   "execution_count": 54,
   "metadata": {},
   "outputs": [
    {
     "name": "stdout",
     "output_type": "stream",
     "text": [
      "torch.Size([10, 1]) torch.Size([10, 1])\n",
      "torch.Size([10, 1]) torch.Size([10, 1])\n",
      "torch.Size([]) torch.Size([])\n"
     ]
    }
   ],
   "source": [
    "loss = {}\n",
    "\n",
    "observations = data[\"observations\"]\n",
    "next_observations = data[\"next_observations\"]\n",
    "actions = data[\"actions\"]\n",
    "rewards = data[\"rewards\"]\n",
    "terminated = data[\"terminated\"]\n",
    "\n",
    "actor_outputs = actor(observations)\n",
    "loss[\"actor\"] = -critic(observations, actor_outputs).mean()\n",
    "\n",
    "with torch.no_grad():\n",
    "    actions_target = actor_target(next_observations)\n",
    "    targets = rewards + gamma * (~terminated) * critic_target(\n",
    "        next_observations, actions_target\n",
    "    )\n",
    "\n",
    "q_values = critic(observations, actions)\n",
    "loss[\"critic\"] = ((q_values - targets) ** 2).mean()\n",
    "\n",
    "print(actor_outputs.shape, critic(observations, actor_outputs).shape)\n",
    "print(actions_target.shape, targets.shape)\n",
    "print(loss[\"actor\"].shape, loss[\"critic\"].shape)"
   ]
  },
  {
   "cell_type": "code",
   "execution_count": 55,
   "metadata": {},
   "outputs": [
    {
     "ename": "NameError",
     "evalue": "name 'critic_1' is not defined",
     "output_type": "error",
     "traceback": [
      "\u001b[0;31m---------------------------------------------------------------------------\u001b[0m",
      "\u001b[0;31mNameError\u001b[0m                                 Traceback (most recent call last)",
      "Cell \u001b[0;32mIn[55], line 6\u001b[0m\n\u001b[1;32m      3\u001b[0m observations \u001b[38;5;241m=\u001b[39m data[\u001b[38;5;124m\"\u001b[39m\u001b[38;5;124mobservations\u001b[39m\u001b[38;5;124m\"\u001b[39m]\n\u001b[1;32m      5\u001b[0m actor_outputs \u001b[38;5;241m=\u001b[39m actor(observations)\n\u001b[0;32m----> 6\u001b[0m loss[\u001b[38;5;124m\"\u001b[39m\u001b[38;5;124mactor\u001b[39m\u001b[38;5;124m\"\u001b[39m] \u001b[38;5;241m=\u001b[39m \u001b[38;5;241m-\u001b[39m\u001b[43mcritic_1\u001b[49m(observations, actor_outputs)\u001b[38;5;241m.\u001b[39mmean()\n\u001b[1;32m      8\u001b[0m actions \u001b[38;5;241m=\u001b[39m data[\u001b[38;5;124m\"\u001b[39m\u001b[38;5;124mactions\u001b[39m\u001b[38;5;124m\"\u001b[39m]\n\u001b[1;32m      9\u001b[0m next_observations \u001b[38;5;241m=\u001b[39m data[\u001b[38;5;124m\"\u001b[39m\u001b[38;5;124mnext_observations\u001b[39m\u001b[38;5;124m\"\u001b[39m]\n",
      "\u001b[0;31mNameError\u001b[0m: name 'critic_1' is not defined"
     ]
    }
   ],
   "source": [
    "loss = {}\n",
    "\n",
    "observations = data[\"observations\"]\n",
    "\n",
    "actor_outputs = actor(observations)\n",
    "loss[\"actor\"] = -critic_1(observations, actor_outputs).mean()\n",
    "\n",
    "actions = data[\"actions\"]\n",
    "next_observations = data[\"next_observations\"]\n",
    "rewards = data[\"rewards\"].reshape(actor_outputs.shape)\n",
    "terminated = data[\"terminated\"].reshape(actor_outputs.shape)\n",
    "\n",
    "with torch.no_grad():\n",
    "    actions_target = actor_target(next_observations)\n",
    "\n",
    "    loc = torch.zeros_like(actions_target)\n",
    "    scale = policy_std * torch.ones_like(actions_target)\n",
    "    dist = Normal(loc, scale)\n",
    "    epsilon = torch.clamp(dist.sample(), -policy_clip, policy_clip)\n",
    "\n",
    "    actions_target = actions_target + epsilon\n",
    "\n",
    "    target_q_values = torch.min(\n",
    "        critic_1_target(next_observations, actions_target),\n",
    "        critic_2_target(next_observations, actions_target),\n",
    "    )\n",
    "\n",
    "    targets = rewards + gamma * (~terminated) * target_q_values\n",
    "\n",
    "q_values_1 = critic_1(observations, actions)\n",
    "q_values_2 = critic_2(observations, actions)\n",
    "\n",
    "loss[\"critic_1\"] = ((q_values_1 - targets) ** 2).mean()\n",
    "loss[\"critic_2\"] = ((q_values_2 - targets) ** 2).mean()\n",
    "\n",
    "print(actor_outputs.shape, critic_1(observations, actor_outputs).shape)\n",
    "print(actions_target.shape, target_q_values.shape, q_values_1.shape, targets.shape)\n",
    "\n",
    "print(loss[\"actor\"])\n",
    "print(loss[\"critic_1\"])\n",
    "print(loss[\"critic_2\"])"
   ]
  },
  {
   "cell_type": "code",
   "execution_count": 42,
   "metadata": {},
   "outputs": [
    {
     "data": {
      "text/plain": [
       "tensor([[-523.3286],\n",
       "        [-526.9666],\n",
       "        [-525.1102],\n",
       "        [-525.8734],\n",
       "        [-526.4110],\n",
       "        [-523.8635],\n",
       "        [-524.0366],\n",
       "        [-524.4642],\n",
       "        [-524.8064],\n",
       "        [-525.6659]], grad_fn=<AddmmBackward0>)"
      ]
     },
     "execution_count": 42,
     "metadata": {},
     "output_type": "execute_result"
    }
   ],
   "source": [
    "critic_1.forward(observations, actions)"
   ]
  },
  {
   "cell_type": "code",
   "execution_count": null,
   "metadata": {},
   "outputs": [],
   "source": []
  }
 ],
 "metadata": {
  "kernelspec": {
   "display_name": "rl-env",
   "language": "python",
   "name": "python3"
  },
  "language_info": {
   "codemirror_mode": {
    "name": "ipython",
    "version": 3
   },
   "file_extension": ".py",
   "mimetype": "text/x-python",
   "name": "python",
   "nbconvert_exporter": "python",
   "pygments_lexer": "ipython3",
   "version": "3.9.5"
  }
 },
 "nbformat": 4,
 "nbformat_minor": 2
}
