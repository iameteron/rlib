{
 "cells": [
  {
   "cell_type": "code",
   "execution_count": 1,
   "metadata": {},
   "outputs": [],
   "source": [
    "import os\n",
    "import sys\n",
    "from copy import deepcopy\n",
    "\n",
    "import gymnasium as gym\n",
    "import torch\n",
    "from gymnasium.wrappers import RescaleAction\n",
    "from torch.distributions import Normal\n",
    "from torch.optim import Adam\n",
    "\n",
    "sys.path.append(os.path.abspath(\"..\"))\n",
    "\n",
    "from rlib.algorithms.model_free.ddpg import ddpg\n",
    "from rlib.algorithms.model_free.sac import sac\n",
    "from rlib.algorithms.model_free.td3 import td3\n",
    "from rlib.common.evaluation import get_trajectory, validation\n",
    "from rlib.common.policies import DeterministicMlpPolicy, MlpQCritic, StochasticMlpPolicy\n",
    "\n",
    "%load_ext autoreload\n",
    "%autoreload 2"
   ]
  },
  {
   "cell_type": "code",
   "execution_count": null,
   "metadata": {},
   "outputs": [],
   "source": []
  },
  {
   "cell_type": "code",
   "execution_count": 2,
   "metadata": {},
   "outputs": [],
   "source": [
    "env = gym.make(\"Pendulum-v1\", render_mode=\"rgb_array\")\n",
    "\n",
    "min_action, max_action = -1, 1\n",
    "env = RescaleAction(env, min_action, max_action)\n",
    "\n",
    "discrete = False"
   ]
  },
  {
   "cell_type": "code",
   "execution_count": 3,
   "metadata": {},
   "outputs": [
    {
     "name": "stdout",
     "output_type": "stream",
     "text": [
      "3 1\n"
     ]
    }
   ],
   "source": [
    "obs_dim = env.observation_space.shape[0]\n",
    "action_dim = env.action_space.shape[0]\n",
    "\n",
    "print(obs_dim, action_dim)"
   ]
  },
  {
   "cell_type": "markdown",
   "metadata": {},
   "source": [
    "### DDPG"
   ]
  },
  {
   "cell_type": "code",
   "execution_count": 4,
   "metadata": {},
   "outputs": [],
   "source": [
    "actor = DeterministicMlpPolicy(obs_dim, action_dim)\n",
    "critic = MlpQCritic(obs_dim, action_dim)\n",
    "\n",
    "actor_optimizer = Adam(actor.parameters(), lr=1e-3)\n",
    "critic_optimizer = Adam(critic.parameters(), lr=1e-3)"
   ]
  },
  {
   "cell_type": "code",
   "execution_count": null,
   "metadata": {},
   "outputs": [],
   "source": [
    "ddpg(env, actor, critic, actor_optimizer, critic_optimizer, total_timesteps=30_000)"
   ]
  },
  {
   "cell_type": "code",
   "execution_count": null,
   "metadata": {},
   "outputs": [
    {
     "data": {
      "text/plain": [
       "-161.23902026577827"
      ]
     },
     "execution_count": 6,
     "metadata": {},
     "output_type": "execute_result"
    }
   ],
   "source": [
    "validation(env, actor)"
   ]
  },
  {
   "cell_type": "markdown",
   "metadata": {},
   "source": [
    "### TD3"
   ]
  },
  {
   "cell_type": "code",
   "execution_count": 12,
   "metadata": {},
   "outputs": [],
   "source": [
    "actor = DeterministicMlpPolicy(obs_dim, action_dim)\n",
    "critic_1 = MlpQCritic(obs_dim, action_dim)\n",
    "critic_2 = MlpQCritic(obs_dim, action_dim)\n",
    "\n",
    "actor_optimizer = Adam(actor.parameters(), lr=1e-3)\n",
    "critic_1_optimizer = Adam(critic_1.parameters(), lr=1e-3)\n",
    "critic_2_optimizer = Adam(critic_2.parameters(), lr=1e-3)"
   ]
  },
  {
   "cell_type": "code",
   "execution_count": null,
   "metadata": {},
   "outputs": [],
   "source": [
    "td3(\n",
    "    env,\n",
    "    actor,\n",
    "    critic_1,\n",
    "    critic_2,\n",
    "    actor_optimizer,\n",
    "    critic_1_optimizer,\n",
    "    critic_2_optimizer,\n",
    "    total_timesteps=20_000,\n",
    ")"
   ]
  },
  {
   "cell_type": "code",
   "execution_count": null,
   "metadata": {},
   "outputs": [
    {
     "data": {
      "text/plain": [
       "-1427.9277668169286"
      ]
     },
     "execution_count": 13,
     "metadata": {},
     "output_type": "execute_result"
    }
   ],
   "source": [
    "validation(env, actor)"
   ]
  },
  {
   "cell_type": "markdown",
   "metadata": {},
   "source": [
    "### SAC"
   ]
  },
  {
   "cell_type": "code",
   "execution_count": 10,
   "metadata": {},
   "outputs": [],
   "source": [
    "actor = StochasticMlpPolicy(obs_dim, action_dim)\n",
    "critic_1 = MlpQCritic(obs_dim, action_dim)\n",
    "critic_2 = MlpQCritic(obs_dim, action_dim)\n",
    "\n",
    "actor_optimizer = Adam(actor.parameters(), lr=1e-3)\n",
    "critic_1_optimizer = Adam(critic_1.parameters(), lr=1e-3)\n",
    "critic_2_optimizer = Adam(critic_2.parameters(), lr=1e-3)"
   ]
  },
  {
   "cell_type": "code",
   "execution_count": 11,
   "metadata": {},
   "outputs": [],
   "source": [
    "sac(\n",
    "    env,\n",
    "    actor,\n",
    "    critic_1,\n",
    "    critic_2,\n",
    "    actor_optimizer,\n",
    "    critic_1_optimizer,\n",
    "    critic_2_optimizer,\n",
    "    total_timesteps=10_000,\n",
    ")"
   ]
  },
  {
   "cell_type": "code",
   "execution_count": 22,
   "metadata": {},
   "outputs": [
    {
     "data": {
      "text/plain": [
       "-756.9275584807227"
      ]
     },
     "execution_count": 22,
     "metadata": {},
     "output_type": "execute_result"
    }
   ],
   "source": [
    "validation(env, actor, deterministic=True)"
   ]
  },
  {
   "cell_type": "code",
   "execution_count": null,
   "metadata": {},
   "outputs": [],
   "source": []
  }
 ],
 "metadata": {
  "kernelspec": {
   "display_name": "Python 3",
   "language": "python",
   "name": "python3"
  },
  "language_info": {
   "codemirror_mode": {
    "name": "ipython",
    "version": 3
   },
   "file_extension": ".py",
   "mimetype": "text/x-python",
   "name": "python",
   "nbconvert_exporter": "python",
   "pygments_lexer": "ipython3",
   "version": "3.10.12"
  }
 },
 "nbformat": 4,
 "nbformat_minor": 2
}
