{
 "cells": [
  {
   "cell_type": "code",
   "execution_count": 153,
   "metadata": {},
   "outputs": [
    {
     "name": "stdout",
     "output_type": "stream",
     "text": [
      "The autoreload extension is already loaded. To reload it, use:\n",
      "  %reload_ext autoreload\n"
     ]
    }
   ],
   "source": [
    "import os\n",
    "import sys\n",
    "\n",
    "import gymnasium as gym\n",
    "import matplotlib.pyplot as plt\n",
    "\n",
    "sys.path.append(os.path.abspath(\"..\"))\n",
    "\n",
    "import rlib\n",
    "\n",
    "%load_ext autoreload\n",
    "%autoreload 2"
   ]
  },
  {
   "cell_type": "code",
   "execution_count": 148,
   "metadata": {},
   "outputs": [],
   "source": [
    "env = gym.make(\"CartPole-v1\")"
   ]
  },
  {
   "cell_type": "code",
   "execution_count": 149,
   "metadata": {},
   "outputs": [],
   "source": [
    "dqn_agent = rlib.DQN(env=env, batch_size=64)"
   ]
  },
  {
   "cell_type": "code",
   "execution_count": 151,
   "metadata": {},
   "outputs": [
    {
     "name": "stdout",
     "output_type": "stream",
     "text": [
      "Episode: 0, Total Episode Reward: 500.0\n",
      "Episode: 1, Total Episode Reward: 500.0\n",
      "Episode: 2, Total Episode Reward: 14.0\n",
      "Episode: 3, Total Episode Reward: 13.0\n",
      "Episode: 4, Total Episode Reward: 11.0\n",
      "Episode: 5, Total Episode Reward: 12.0\n",
      "Episode: 6, Total Episode Reward: 10.0\n",
      "Episode: 7, Total Episode Reward: 10.0\n",
      "Episode: 8, Total Episode Reward: 11.0\n",
      "Episode: 9, Total Episode Reward: 9.0\n",
      "Episode: 10, Total Episode Reward: 10.0\n",
      "Episode: 11, Total Episode Reward: 11.0\n",
      "Episode: 12, Total Episode Reward: 10.0\n",
      "Episode: 13, Total Episode Reward: 11.0\n",
      "Episode: 14, Total Episode Reward: 16.0\n",
      "Episode: 15, Total Episode Reward: 55.0\n",
      "Episode: 16, Total Episode Reward: 22.0\n",
      "Episode: 17, Total Episode Reward: 16.0\n",
      "Episode: 18, Total Episode Reward: 122.0\n",
      "Episode: 19, Total Episode Reward: 500.0\n",
      "Episode: 20, Total Episode Reward: 500.0\n",
      "Episode: 21, Total Episode Reward: 188.0\n",
      "Episode: 22, Total Episode Reward: 155.0\n",
      "Episode: 23, Total Episode Reward: 185.0\n",
      "Episode: 24, Total Episode Reward: 243.0\n",
      "Episode: 25, Total Episode Reward: 211.0\n",
      "Episode: 26, Total Episode Reward: 221.0\n",
      "Episode: 27, Total Episode Reward: 254.0\n",
      "Episode: 28, Total Episode Reward: 500.0\n",
      "Episode: 29, Total Episode Reward: 500.0\n",
      "Episode: 30, Total Episode Reward: 500.0\n",
      "Episode: 31, Total Episode Reward: 500.0\n",
      "Episode: 32, Total Episode Reward: 500.0\n",
      "Episode: 33, Total Episode Reward: 500.0\n",
      "Episode: 34, Total Episode Reward: 500.0\n",
      "Episode: 35, Total Episode Reward: 476.0\n",
      "Episode: 36, Total Episode Reward: 378.0\n",
      "Episode: 37, Total Episode Reward: 281.0\n",
      "Episode: 38, Total Episode Reward: 500.0\n",
      "Episode: 39, Total Episode Reward: 500.0\n",
      "Episode: 40, Total Episode Reward: 500.0\n",
      "Episode: 41, Total Episode Reward: 500.0\n",
      "Episode: 42, Total Episode Reward: 500.0\n",
      "Episode: 43, Total Episode Reward: 500.0\n",
      "Episode: 44, Total Episode Reward: 500.0\n",
      "Episode: 45, Total Episode Reward: 500.0\n",
      "Episode: 46, Total Episode Reward: 500.0\n",
      "Episode: 47, Total Episode Reward: 500.0\n",
      "Episode: 48, Total Episode Reward: 500.0\n",
      "Episode: 49, Total Episode Reward: 500.0\n",
      "Episode: 50, Total Episode Reward: 500.0\n",
      "Episode: 51, Total Episode Reward: 500.0\n",
      "Episode: 52, Total Episode Reward: 500.0\n",
      "Episode: 53, Total Episode Reward: 500.0\n",
      "Episode: 54, Total Episode Reward: 500.0\n",
      "Episode: 55, Total Episode Reward: 500.0\n",
      "Episode: 56, Total Episode Reward: 500.0\n",
      "Episode: 57, Total Episode Reward: 481.0\n",
      "Episode: 58, Total Episode Reward: 500.0\n",
      "Episode: 59, Total Episode Reward: 381.0\n",
      "Episode: 60, Total Episode Reward: 228.0\n",
      "Episode: 61, Total Episode Reward: 320.0\n",
      "Episode: 62, Total Episode Reward: 500.0\n",
      "Episode: 63, Total Episode Reward: 500.0\n",
      "Episode: 64, Total Episode Reward: 500.0\n",
      "Episode: 65, Total Episode Reward: 500.0\n",
      "Episode: 66, Total Episode Reward: 424.0\n",
      "Episode: 67, Total Episode Reward: 500.0\n",
      "Episode: 68, Total Episode Reward: 500.0\n",
      "Episode: 69, Total Episode Reward: 500.0\n",
      "Episode: 70, Total Episode Reward: 500.0\n",
      "Episode: 71, Total Episode Reward: 500.0\n",
      "Episode: 72, Total Episode Reward: 500.0\n",
      "Episode: 73, Total Episode Reward: 500.0\n",
      "Episode: 74, Total Episode Reward: 500.0\n",
      "Episode: 75, Total Episode Reward: 500.0\n",
      "Episode: 76, Total Episode Reward: 500.0\n",
      "Episode: 77, Total Episode Reward: 500.0\n",
      "Episode: 78, Total Episode Reward: 500.0\n",
      "Episode: 79, Total Episode Reward: 500.0\n",
      "Episode: 80, Total Episode Reward: 500.0\n",
      "Episode: 81, Total Episode Reward: 500.0\n",
      "Episode: 82, Total Episode Reward: 500.0\n",
      "Episode: 83, Total Episode Reward: 500.0\n",
      "Episode: 84, Total Episode Reward: 500.0\n",
      "Episode: 85, Total Episode Reward: 500.0\n",
      "Episode: 86, Total Episode Reward: 402.0\n",
      "Episode: 87, Total Episode Reward: 360.0\n",
      "Episode: 88, Total Episode Reward: 165.0\n",
      "Episode: 89, Total Episode Reward: 106.0\n",
      "Episode: 90, Total Episode Reward: 14.0\n",
      "Episode: 91, Total Episode Reward: 13.0\n",
      "Episode: 92, Total Episode Reward: 12.0\n",
      "Episode: 93, Total Episode Reward: 11.0\n",
      "Episode: 94, Total Episode Reward: 13.0\n",
      "Episode: 95, Total Episode Reward: 12.0\n",
      "Episode: 96, Total Episode Reward: 11.0\n",
      "Episode: 97, Total Episode Reward: 12.0\n",
      "Episode: 98, Total Episode Reward: 15.0\n",
      "Episode: 99, Total Episode Reward: 16.0\n"
     ]
    }
   ],
   "source": [
    "total_rewards = dqn_agent.train(episode_n=100)"
   ]
  },
  {
   "cell_type": "code",
   "execution_count": 154,
   "metadata": {},
   "outputs": [
    {
     "data": {
      "text/plain": [
       "[<matplotlib.lines.Line2D at 0x7025700bc850>]"
      ]
     },
     "execution_count": 154,
     "metadata": {},
     "output_type": "execute_result"
    },
    {
     "data": {
      "image/png": "[encoded data removed]",
      "text/plain": [
       "<Figure size 640x480 with 1 Axes>"
      ]
     },
     "metadata": {},
     "output_type": "display_data"
    }
   ],
   "source": [
    "plt.plot(total_rewards)"
   ]
  }
 ],
 "metadata": {
  "kernelspec": {
   "display_name": "Python 3",
   "language": "python",
   "name": "python3"
  },
  "language_info": {
   "codemirror_mode": {
    "name": "ipython",
    "version": 3
   },
   "file_extension": ".py",
   "mimetype": "text/x-python",
   "name": "python",
   "nbconvert_exporter": "python",
   "pygments_lexer": "ipython3",
   "version": "3.11.10"
  }
 },
 "nbformat": 4,
 "nbformat_minor": 2
}
