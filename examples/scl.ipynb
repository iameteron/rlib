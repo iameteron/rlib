{
 "cells": [
  {
   "cell_type": "code",
   "execution_count": 3,
   "metadata": {},
   "outputs": [],
   "source": [
    "import os\n",
    "import sys\n",
    "from copy import deepcopy\n",
    "\n",
    "import gymnasium as gym\n",
    "import numpy as np\n",
    "import torch\n",
    "from torch.optim import Adam\n",
    "\n",
    "sys.path.append(os.path.abspath(\"..\"))\n",
    "\n",
    "\n",
    "from typing import Dict\n",
    "\n",
    "import gymnasium as gym\n",
    "from gymnasium.wrappers import RescaleAction\n",
    "from torch.optim import Adam\n",
    "\n",
    "from rlib.algorithms.model_free.ddpg import ddpg\n",
    "from rlib.algorithms.model_free.sac import sac\n",
    "from rlib.algorithms.model_free.td3 import td3\n",
    "from rlib.common.buffer import ReplayBuffer, RolloutBuffer\n",
    "from rlib.common.evaluation import get_trajectory, validation\n",
    "from rlib.common.logger import TensorBoardLogger\n",
    "from rlib.common.losses import sac_loss\n",
    "from rlib.common.policies import DeterministicMlpPolicy, MlpQCritic, StochasticMlpPolicy\n",
    "from rlib.common.utils import smooth_update\n",
    "\n",
    "%load_ext autoreload\n",
    "%autoreload 2"
   ]
  },
  {
   "cell_type": "code",
   "execution_count": null,
   "metadata": {},
   "outputs": [],
   "source": []
  },
  {
   "cell_type": "code",
   "execution_count": 34,
   "metadata": {},
   "outputs": [],
   "source": [
    "env = gym.make(\"Pendulum-v1\", render_mode=\"rgb_array\")\n",
    "\n",
    "min_action, max_action = -1, 1\n",
    "env = RescaleAction(env, min_action, max_action)\n",
    "\n",
    "discrete = False"
   ]
  },
  {
   "cell_type": "code",
   "execution_count": 35,
   "metadata": {},
   "outputs": [
    {
     "name": "stdout",
     "output_type": "stream",
     "text": [
      "3 1\n"
     ]
    }
   ],
   "source": [
    "obs_dim = env.observation_space.shape[0]\n",
    "action_dim = env.action_space.shape[0]\n",
    "\n",
    "print(obs_dim, action_dim)"
   ]
  },
  {
   "cell_type": "code",
   "execution_count": null,
   "metadata": {},
   "outputs": [],
   "source": []
  },
  {
   "cell_type": "code",
   "execution_count": 36,
   "metadata": {},
   "outputs": [],
   "source": [
    "def get_filled_buffer(obs_dim, action_dim, data):\n",
    "    rb = ReplayBuffer(obs_dim, action_dim)\n",
    "\n",
    "    rb.observations = torch.tensor(data[\"observations\"][:-1, :], dtype=torch.float32).squeeze(dim=1).detach()\n",
    "    rb.next_observations = torch.tensor(data[\"observations\"][1:, :], dtype=torch.float32).squeeze(dim=1).detach()\n",
    "    rb.actions = torch.tensor(data[\"actions\"][:-1, :], dtype=torch.float32).detach()\n",
    "    rb.rewards = torch.tensor(data[\"rewards\"][:-1, :], dtype=torch.float32).reshape(-1, 1).detach()\n",
    "    rb.terminated = torch.tensor(data[\"terminated\"][:-1, :], dtype=torch.int8).reshape(-1, 1).detach()\n",
    "    rb.truncated = torch.tensor(data[\"truncated\"][:-1, :], dtype=torch.int8).reshape(-1, 1).detach()\n",
    "\n",
    "    rb.size = rb.observations.shape[0]\n",
    "\n",
    "    return rb"
   ]
  },
  {
   "cell_type": "code",
   "execution_count": 37,
   "metadata": {},
   "outputs": [],
   "source": [
    "def offline_sac(\n",
    "    data,\n",
    "    actor: StochasticMlpPolicy,\n",
    "    critic_1: MlpQCritic,\n",
    "    critic_2: MlpQCritic,\n",
    "    actor_optimizer: Adam,\n",
    "    critic_1_optimizer: Adam,\n",
    "    critic_2_optimizer: Adam,\n",
    "    total_episodes: int = 10_000,\n",
    "    batch_size: int = 256,\n",
    "    target_update_frequency: int = 1,\n",
    "):\n",
    "    buffer = get_filled_buffer(\n",
    "        data[\"observations\"][0].shape[0], data[\"actions\"][0].shape[0], data\n",
    "    )\n",
    "\n",
    "    logger = TensorBoardLogger(log_dir=\"./tb_logs/offline_sac_\")\n",
    "\n",
    "    critic_1_target = deepcopy(critic_1)\n",
    "    critic_2_target = deepcopy(critic_2)\n",
    "\n",
    "    for episode_n in range(total_episodes):\n",
    "        batch = buffer.get_batch(batch_size)\n",
    "\n",
    "        loss = sac_loss(\n",
    "            batch,\n",
    "            actor,\n",
    "            critic_1,\n",
    "            critic_2,\n",
    "            critic_1_target,\n",
    "            critic_2_target,\n",
    "        )\n",
    "\n",
    "        actor_optimizer.zero_grad()\n",
    "        loss[\"actor\"].backward()\n",
    "        actor_optimizer.step()\n",
    "\n",
    "        critic_1_optimizer.zero_grad()\n",
    "        loss[\"critic_1\"].backward()\n",
    "        critic_1_optimizer.step()\n",
    "\n",
    "        critic_2_optimizer.zero_grad()\n",
    "        loss[\"critic_2\"].backward()\n",
    "        critic_2_optimizer.step()\n",
    "\n",
    "        if episode_n % target_update_frequency == 0:\n",
    "            critic_1_target = smooth_update(critic_1, critic_1_target)\n",
    "            critic_2_target = smooth_update(critic_2, critic_2_target)\n",
    "\n",
    "        # Logging\n",
    "        logger.log_scalars(loss, episode_n)\n",
    "\n",
    "        if episode_n % 100:\n",
    "            logs = {}            \n",
    "            trajectory = get_trajectory(env, actor)\n",
    "            logs[\"eval_traj_reward\"] = np.sum(trajectory[\"rewards\"])\n",
    "            logger.log_scalars(logs, episode_n)"
   ]
  },
  {
   "cell_type": "code",
   "execution_count": null,
   "metadata": {},
   "outputs": [],
   "source": []
  },
  {
   "cell_type": "code",
   "execution_count": 38,
   "metadata": {},
   "outputs": [],
   "source": [
    "data = torch.load(\"./models/pendulum_expert_data\")"
   ]
  },
  {
   "cell_type": "code",
   "execution_count": 39,
   "metadata": {},
   "outputs": [],
   "source": [
    "actor = StochasticMlpPolicy(obs_dim, action_dim)\n",
    "critic_1 = MlpQCritic(obs_dim, action_dim)\n",
    "critic_2 = MlpQCritic(obs_dim, action_dim)\n",
    "\n",
    "actor_optimizer = Adam(actor.parameters(), lr=1e-3)\n",
    "critic_1_optimizer = Adam(critic_1.parameters(), lr=1e-3)\n",
    "critic_2_optimizer = Adam(critic_2.parameters(), lr=1e-3)"
   ]
  },
  {
   "cell_type": "code",
   "execution_count": 40,
   "metadata": {},
   "outputs": [
    {
     "name": "stderr",
     "output_type": "stream",
     "text": [
      "/tmp/ipykernel_3827404/3226795155.py:4: UserWarning: To copy construct from a tensor, it is recommended to use sourceTensor.clone().detach() or sourceTensor.clone().detach().requires_grad_(True), rather than torch.tensor(sourceTensor).\n",
      "  rb.observations = torch.tensor(data[\"observations\"][:-1, :], dtype=torch.float32).squeeze(dim=1).detach()\n",
      "/tmp/ipykernel_3827404/3226795155.py:5: UserWarning: To copy construct from a tensor, it is recommended to use sourceTensor.clone().detach() or sourceTensor.clone().detach().requires_grad_(True), rather than torch.tensor(sourceTensor).\n",
      "  rb.next_observations = torch.tensor(data[\"observations\"][1:, :], dtype=torch.float32).squeeze(dim=1).detach()\n",
      "/tmp/ipykernel_3827404/3226795155.py:6: UserWarning: To copy construct from a tensor, it is recommended to use sourceTensor.clone().detach() or sourceTensor.clone().detach().requires_grad_(True), rather than torch.tensor(sourceTensor).\n",
      "  rb.actions = torch.tensor(data[\"actions\"][:-1, :], dtype=torch.float32).detach()\n",
      "/tmp/ipykernel_3827404/3226795155.py:7: UserWarning: To copy construct from a tensor, it is recommended to use sourceTensor.clone().detach() or sourceTensor.clone().detach().requires_grad_(True), rather than torch.tensor(sourceTensor).\n",
      "  rb.rewards = torch.tensor(data[\"rewards\"][:-1, :], dtype=torch.float32).reshape(-1, 1).detach()\n",
      "/tmp/ipykernel_3827404/3226795155.py:8: UserWarning: To copy construct from a tensor, it is recommended to use sourceTensor.clone().detach() or sourceTensor.clone().detach().requires_grad_(True), rather than torch.tensor(sourceTensor).\n",
      "  rb.terminated = torch.tensor(data[\"terminated\"][:-1, :], dtype=torch.int8).reshape(-1, 1).detach()\n",
      "/tmp/ipykernel_3827404/3226795155.py:9: UserWarning: To copy construct from a tensor, it is recommended to use sourceTensor.clone().detach() or sourceTensor.clone().detach().requires_grad_(True), rather than torch.tensor(sourceTensor).\n",
      "  rb.truncated = torch.tensor(data[\"truncated\"][:-1, :], dtype=torch.int8).reshape(-1, 1).detach()\n"
     ]
    },
    {
     "ename": "KeyboardInterrupt",
     "evalue": "",
     "output_type": "error",
     "traceback": [
      "\u001b[0;31m---------------------------------------------------------------------------\u001b[0m",
      "\u001b[0;31mKeyboardInterrupt\u001b[0m                         Traceback (most recent call last)",
      "Cell \u001b[0;32mIn[40], line 1\u001b[0m\n\u001b[0;32m----> 1\u001b[0m \u001b[43moffline_sac\u001b[49m\u001b[43m(\u001b[49m\n\u001b[1;32m      2\u001b[0m \u001b[43m    \u001b[49m\u001b[43mdata\u001b[49m\u001b[43m,\u001b[49m\n\u001b[1;32m      3\u001b[0m \u001b[43m    \u001b[49m\u001b[43mactor\u001b[49m\u001b[43m,\u001b[49m\n\u001b[1;32m      4\u001b[0m \u001b[43m    \u001b[49m\u001b[43mcritic_1\u001b[49m\u001b[43m,\u001b[49m\n\u001b[1;32m      5\u001b[0m \u001b[43m    \u001b[49m\u001b[43mcritic_2\u001b[49m\u001b[43m,\u001b[49m\n\u001b[1;32m      6\u001b[0m \u001b[43m    \u001b[49m\u001b[43mactor_optimizer\u001b[49m\u001b[43m,\u001b[49m\n\u001b[1;32m      7\u001b[0m \u001b[43m    \u001b[49m\u001b[43mcritic_1_optimizer\u001b[49m\u001b[43m,\u001b[49m\n\u001b[1;32m      8\u001b[0m \u001b[43m    \u001b[49m\u001b[43mcritic_2_optimizer\u001b[49m\u001b[43m,\u001b[49m\n\u001b[1;32m      9\u001b[0m \u001b[43m    \u001b[49m\u001b[43mtotal_episodes\u001b[49m\u001b[38;5;241;43m=\u001b[39;49m\u001b[38;5;241;43m10_000\u001b[39;49m\u001b[43m,\u001b[49m\n\u001b[1;32m     10\u001b[0m \u001b[43m)\u001b[49m\n",
      "Cell \u001b[0;32mIn[37], line 55\u001b[0m, in \u001b[0;36moffline_sac\u001b[0;34m(data, actor, critic_1, critic_2, actor_optimizer, critic_1_optimizer, critic_2_optimizer, total_episodes, batch_size, target_update_frequency)\u001b[0m\n\u001b[1;32m     53\u001b[0m \u001b[38;5;28;01mif\u001b[39;00m episode_n \u001b[38;5;241m%\u001b[39m \u001b[38;5;241m100\u001b[39m:\n\u001b[1;32m     54\u001b[0m     logs \u001b[38;5;241m=\u001b[39m {}            \n\u001b[0;32m---> 55\u001b[0m     trajectory \u001b[38;5;241m=\u001b[39m \u001b[43mget_trajectory\u001b[49m\u001b[43m(\u001b[49m\u001b[43menv\u001b[49m\u001b[43m,\u001b[49m\u001b[43m \u001b[49m\u001b[43mactor\u001b[49m\u001b[43m)\u001b[49m\n\u001b[1;32m     56\u001b[0m     logs[\u001b[38;5;124m\"\u001b[39m\u001b[38;5;124meval_traj_reward\u001b[39m\u001b[38;5;124m\"\u001b[39m] \u001b[38;5;241m=\u001b[39m np\u001b[38;5;241m.\u001b[39msum(trajectory[\u001b[38;5;124m\"\u001b[39m\u001b[38;5;124mrewards\u001b[39m\u001b[38;5;124m\"\u001b[39m])\n\u001b[1;32m     57\u001b[0m     logger\u001b[38;5;241m.\u001b[39mlog_scalars(logs, episode_n)\n",
      "File \u001b[0;32m/app/rlib/common/evaluation.py:35\u001b[0m, in \u001b[0;36mget_trajectory\u001b[0;34m(env, agent, visualize, deterministic, filename)\u001b[0m\n\u001b[1;32m     33\u001b[0m \u001b[38;5;28;01mwhile\u001b[39;00m \u001b[38;5;28;01mTrue\u001b[39;00m:\n\u001b[1;32m     34\u001b[0m     action, _ \u001b[38;5;241m=\u001b[39m agent\u001b[38;5;241m.\u001b[39mpredict(obs, deterministic\u001b[38;5;241m=\u001b[39mdeterministic)\n\u001b[0;32m---> 35\u001b[0m     next_obs, reward, terminated, truncated, _ \u001b[38;5;241m=\u001b[39m \u001b[43menv\u001b[49m\u001b[38;5;241;43m.\u001b[39;49m\u001b[43mstep\u001b[49m\u001b[43m(\u001b[49m\u001b[43maction\u001b[49m\u001b[43m)\u001b[49m\n\u001b[1;32m     37\u001b[0m     trajectory[\u001b[38;5;124m\"\u001b[39m\u001b[38;5;124mstates\u001b[39m\u001b[38;5;124m\"\u001b[39m]\u001b[38;5;241m.\u001b[39mappend(obs)\n\u001b[1;32m     38\u001b[0m     trajectory[\u001b[38;5;124m\"\u001b[39m\u001b[38;5;124mactions\u001b[39m\u001b[38;5;124m\"\u001b[39m]\u001b[38;5;241m.\u001b[39mappend(action)\n",
      "File \u001b[0;32m/usr/local/lib/python3.10/dist-packages/gymnasium/core.py:626\u001b[0m, in \u001b[0;36mActionWrapper.step\u001b[0;34m(self, action)\u001b[0m\n\u001b[1;32m    622\u001b[0m \u001b[38;5;28;01mdef\u001b[39;00m\u001b[38;5;250m \u001b[39m\u001b[38;5;21mstep\u001b[39m(\n\u001b[1;32m    623\u001b[0m     \u001b[38;5;28mself\u001b[39m, action: WrapperActType\n\u001b[1;32m    624\u001b[0m ) \u001b[38;5;241m-\u001b[39m\u001b[38;5;241m>\u001b[39m \u001b[38;5;28mtuple\u001b[39m[ObsType, SupportsFloat, \u001b[38;5;28mbool\u001b[39m, \u001b[38;5;28mbool\u001b[39m, \u001b[38;5;28mdict\u001b[39m[\u001b[38;5;28mstr\u001b[39m, Any]]:\n\u001b[1;32m    625\u001b[0m \u001b[38;5;250m    \u001b[39m\u001b[38;5;124;03m\"\"\"Runs the :attr:`env` :meth:`env.step` using the modified ``action`` from :meth:`self.action`.\"\"\"\u001b[39;00m\n\u001b[0;32m--> 626\u001b[0m     \u001b[38;5;28;01mreturn\u001b[39;00m \u001b[38;5;28;43mself\u001b[39;49m\u001b[38;5;241;43m.\u001b[39;49m\u001b[43menv\u001b[49m\u001b[38;5;241;43m.\u001b[39;49m\u001b[43mstep\u001b[49m\u001b[43m(\u001b[49m\u001b[38;5;28;43mself\u001b[39;49m\u001b[38;5;241;43m.\u001b[39;49m\u001b[43maction\u001b[49m\u001b[43m(\u001b[49m\u001b[43maction\u001b[49m\u001b[43m)\u001b[49m\u001b[43m)\u001b[49m\n",
      "File \u001b[0;32m/usr/local/lib/python3.10/dist-packages/gymnasium/wrappers/common.py:125\u001b[0m, in \u001b[0;36mTimeLimit.step\u001b[0;34m(self, action)\u001b[0m\n\u001b[1;32m    112\u001b[0m \u001b[38;5;28;01mdef\u001b[39;00m\u001b[38;5;250m \u001b[39m\u001b[38;5;21mstep\u001b[39m(\n\u001b[1;32m    113\u001b[0m     \u001b[38;5;28mself\u001b[39m, action: ActType\n\u001b[1;32m    114\u001b[0m ) \u001b[38;5;241m-\u001b[39m\u001b[38;5;241m>\u001b[39m \u001b[38;5;28mtuple\u001b[39m[ObsType, SupportsFloat, \u001b[38;5;28mbool\u001b[39m, \u001b[38;5;28mbool\u001b[39m, \u001b[38;5;28mdict\u001b[39m[\u001b[38;5;28mstr\u001b[39m, Any]]:\n\u001b[1;32m    115\u001b[0m \u001b[38;5;250m    \u001b[39m\u001b[38;5;124;03m\"\"\"Steps through the environment and if the number of steps elapsed exceeds ``max_episode_steps`` then truncate.\u001b[39;00m\n\u001b[1;32m    116\u001b[0m \n\u001b[1;32m    117\u001b[0m \u001b[38;5;124;03m    Args:\u001b[39;00m\n\u001b[0;32m   (...)\u001b[0m\n\u001b[1;32m    123\u001b[0m \n\u001b[1;32m    124\u001b[0m \u001b[38;5;124;03m    \"\"\"\u001b[39;00m\n\u001b[0;32m--> 125\u001b[0m     observation, reward, terminated, truncated, info \u001b[38;5;241m=\u001b[39m \u001b[38;5;28;43mself\u001b[39;49m\u001b[38;5;241;43m.\u001b[39;49m\u001b[43menv\u001b[49m\u001b[38;5;241;43m.\u001b[39;49m\u001b[43mstep\u001b[49m\u001b[43m(\u001b[49m\u001b[43maction\u001b[49m\u001b[43m)\u001b[49m\n\u001b[1;32m    126\u001b[0m     \u001b[38;5;28mself\u001b[39m\u001b[38;5;241m.\u001b[39m_elapsed_steps \u001b[38;5;241m+\u001b[39m\u001b[38;5;241m=\u001b[39m \u001b[38;5;241m1\u001b[39m\n\u001b[1;32m    128\u001b[0m     \u001b[38;5;28;01mif\u001b[39;00m \u001b[38;5;28mself\u001b[39m\u001b[38;5;241m.\u001b[39m_elapsed_steps \u001b[38;5;241m>\u001b[39m\u001b[38;5;241m=\u001b[39m \u001b[38;5;28mself\u001b[39m\u001b[38;5;241m.\u001b[39m_max_episode_steps:\n",
      "File \u001b[0;32m/usr/local/lib/python3.10/dist-packages/gymnasium/wrappers/common.py:393\u001b[0m, in \u001b[0;36mOrderEnforcing.step\u001b[0;34m(self, action)\u001b[0m\n\u001b[1;32m    391\u001b[0m \u001b[38;5;28;01mif\u001b[39;00m \u001b[38;5;129;01mnot\u001b[39;00m \u001b[38;5;28mself\u001b[39m\u001b[38;5;241m.\u001b[39m_has_reset:\n\u001b[1;32m    392\u001b[0m     \u001b[38;5;28;01mraise\u001b[39;00m ResetNeeded(\u001b[38;5;124m\"\u001b[39m\u001b[38;5;124mCannot call env.step() before calling env.reset()\u001b[39m\u001b[38;5;124m\"\u001b[39m)\n\u001b[0;32m--> 393\u001b[0m \u001b[38;5;28;01mreturn\u001b[39;00m \u001b[38;5;28;43msuper\u001b[39;49m\u001b[43m(\u001b[49m\u001b[43m)\u001b[49m\u001b[38;5;241;43m.\u001b[39;49m\u001b[43mstep\u001b[49m\u001b[43m(\u001b[49m\u001b[43maction\u001b[49m\u001b[43m)\u001b[49m\n",
      "File \u001b[0;32m/usr/local/lib/python3.10/dist-packages/gymnasium/core.py:322\u001b[0m, in \u001b[0;36mWrapper.step\u001b[0;34m(self, action)\u001b[0m\n\u001b[1;32m    318\u001b[0m \u001b[38;5;28;01mdef\u001b[39;00m\u001b[38;5;250m \u001b[39m\u001b[38;5;21mstep\u001b[39m(\n\u001b[1;32m    319\u001b[0m     \u001b[38;5;28mself\u001b[39m, action: WrapperActType\n\u001b[1;32m    320\u001b[0m ) \u001b[38;5;241m-\u001b[39m\u001b[38;5;241m>\u001b[39m \u001b[38;5;28mtuple\u001b[39m[WrapperObsType, SupportsFloat, \u001b[38;5;28mbool\u001b[39m, \u001b[38;5;28mbool\u001b[39m, \u001b[38;5;28mdict\u001b[39m[\u001b[38;5;28mstr\u001b[39m, Any]]:\n\u001b[1;32m    321\u001b[0m \u001b[38;5;250m    \u001b[39m\u001b[38;5;124;03m\"\"\"Uses the :meth:`step` of the :attr:`env` that can be overwritten to change the returned data.\"\"\"\u001b[39;00m\n\u001b[0;32m--> 322\u001b[0m     \u001b[38;5;28;01mreturn\u001b[39;00m \u001b[38;5;28;43mself\u001b[39;49m\u001b[38;5;241;43m.\u001b[39;49m\u001b[43menv\u001b[49m\u001b[38;5;241;43m.\u001b[39;49m\u001b[43mstep\u001b[49m\u001b[43m(\u001b[49m\u001b[43maction\u001b[49m\u001b[43m)\u001b[49m\n",
      "File \u001b[0;32m/usr/local/lib/python3.10/dist-packages/gymnasium/wrappers/common.py:285\u001b[0m, in \u001b[0;36mPassiveEnvChecker.step\u001b[0;34m(self, action)\u001b[0m\n\u001b[1;32m    283\u001b[0m     \u001b[38;5;28;01mreturn\u001b[39;00m env_step_passive_checker(\u001b[38;5;28mself\u001b[39m\u001b[38;5;241m.\u001b[39menv, action)\n\u001b[1;32m    284\u001b[0m \u001b[38;5;28;01melse\u001b[39;00m:\n\u001b[0;32m--> 285\u001b[0m     \u001b[38;5;28;01mreturn\u001b[39;00m \u001b[38;5;28;43mself\u001b[39;49m\u001b[38;5;241;43m.\u001b[39;49m\u001b[43menv\u001b[49m\u001b[38;5;241;43m.\u001b[39;49m\u001b[43mstep\u001b[49m\u001b[43m(\u001b[49m\u001b[43maction\u001b[49m\u001b[43m)\u001b[49m\n",
      "File \u001b[0;32m/usr/local/lib/python3.10/dist-packages/gymnasium/envs/classic_control/pendulum.py:136\u001b[0m, in \u001b[0;36mPendulumEnv.step\u001b[0;34m(self, u)\u001b[0m\n\u001b[1;32m    133\u001b[0m l \u001b[38;5;241m=\u001b[39m \u001b[38;5;28mself\u001b[39m\u001b[38;5;241m.\u001b[39ml\n\u001b[1;32m    134\u001b[0m dt \u001b[38;5;241m=\u001b[39m \u001b[38;5;28mself\u001b[39m\u001b[38;5;241m.\u001b[39mdt\n\u001b[0;32m--> 136\u001b[0m u \u001b[38;5;241m=\u001b[39m \u001b[43mnp\u001b[49m\u001b[38;5;241;43m.\u001b[39;49m\u001b[43mclip\u001b[49m\u001b[43m(\u001b[49m\u001b[43mu\u001b[49m\u001b[43m,\u001b[49m\u001b[43m \u001b[49m\u001b[38;5;241;43m-\u001b[39;49m\u001b[38;5;28;43mself\u001b[39;49m\u001b[38;5;241;43m.\u001b[39;49m\u001b[43mmax_torque\u001b[49m\u001b[43m,\u001b[49m\u001b[43m \u001b[49m\u001b[38;5;28;43mself\u001b[39;49m\u001b[38;5;241;43m.\u001b[39;49m\u001b[43mmax_torque\u001b[49m\u001b[43m)\u001b[49m[\u001b[38;5;241m0\u001b[39m]\n\u001b[1;32m    137\u001b[0m \u001b[38;5;28mself\u001b[39m\u001b[38;5;241m.\u001b[39mlast_u \u001b[38;5;241m=\u001b[39m u  \u001b[38;5;66;03m# for rendering\u001b[39;00m\n\u001b[1;32m    138\u001b[0m costs \u001b[38;5;241m=\u001b[39m angle_normalize(th) \u001b[38;5;241m*\u001b[39m\u001b[38;5;241m*\u001b[39m \u001b[38;5;241m2\u001b[39m \u001b[38;5;241m+\u001b[39m \u001b[38;5;241m0.1\u001b[39m \u001b[38;5;241m*\u001b[39m thdot\u001b[38;5;241m*\u001b[39m\u001b[38;5;241m*\u001b[39m\u001b[38;5;241m2\u001b[39m \u001b[38;5;241m+\u001b[39m \u001b[38;5;241m0.001\u001b[39m \u001b[38;5;241m*\u001b[39m (u\u001b[38;5;241m*\u001b[39m\u001b[38;5;241m*\u001b[39m\u001b[38;5;241m2\u001b[39m)\n",
      "File \u001b[0;32m/usr/local/lib/python3.10/dist-packages/numpy/core/fromnumeric.py:2169\u001b[0m, in \u001b[0;36mclip\u001b[0;34m(a, a_min, a_max, out, **kwargs)\u001b[0m\n\u001b[1;32m   2100\u001b[0m \u001b[38;5;129m@array_function_dispatch\u001b[39m(_clip_dispatcher)\n\u001b[1;32m   2101\u001b[0m \u001b[38;5;28;01mdef\u001b[39;00m\u001b[38;5;250m \u001b[39m\u001b[38;5;21mclip\u001b[39m(a, a_min, a_max, out\u001b[38;5;241m=\u001b[39m\u001b[38;5;28;01mNone\u001b[39;00m, \u001b[38;5;241m*\u001b[39m\u001b[38;5;241m*\u001b[39mkwargs):\n\u001b[1;32m   2102\u001b[0m \u001b[38;5;250m    \u001b[39m\u001b[38;5;124;03m\"\"\"\u001b[39;00m\n\u001b[1;32m   2103\u001b[0m \u001b[38;5;124;03m    Clip (limit) the values in an array.\u001b[39;00m\n\u001b[1;32m   2104\u001b[0m \n\u001b[0;32m   (...)\u001b[0m\n\u001b[1;32m   2167\u001b[0m \n\u001b[1;32m   2168\u001b[0m \u001b[38;5;124;03m    \"\"\"\u001b[39;00m\n\u001b[0;32m-> 2169\u001b[0m     \u001b[38;5;28;01mreturn\u001b[39;00m \u001b[43m_wrapfunc\u001b[49m\u001b[43m(\u001b[49m\u001b[43ma\u001b[49m\u001b[43m,\u001b[49m\u001b[43m \u001b[49m\u001b[38;5;124;43m'\u001b[39;49m\u001b[38;5;124;43mclip\u001b[39;49m\u001b[38;5;124;43m'\u001b[39;49m\u001b[43m,\u001b[49m\u001b[43m \u001b[49m\u001b[43ma_min\u001b[49m\u001b[43m,\u001b[49m\u001b[43m \u001b[49m\u001b[43ma_max\u001b[49m\u001b[43m,\u001b[49m\u001b[43m \u001b[49m\u001b[43mout\u001b[49m\u001b[38;5;241;43m=\u001b[39;49m\u001b[43mout\u001b[49m\u001b[43m,\u001b[49m\u001b[43m \u001b[49m\u001b[38;5;241;43m*\u001b[39;49m\u001b[38;5;241;43m*\u001b[39;49m\u001b[43mkwargs\u001b[49m\u001b[43m)\u001b[49m\n",
      "File \u001b[0;32m/usr/local/lib/python3.10/dist-packages/numpy/core/fromnumeric.py:59\u001b[0m, in \u001b[0;36m_wrapfunc\u001b[0;34m(obj, method, *args, **kwds)\u001b[0m\n\u001b[1;32m     56\u001b[0m     \u001b[38;5;28;01mreturn\u001b[39;00m _wrapit(obj, method, \u001b[38;5;241m*\u001b[39margs, \u001b[38;5;241m*\u001b[39m\u001b[38;5;241m*\u001b[39mkwds)\n\u001b[1;32m     58\u001b[0m \u001b[38;5;28;01mtry\u001b[39;00m:\n\u001b[0;32m---> 59\u001b[0m     \u001b[38;5;28;01mreturn\u001b[39;00m \u001b[43mbound\u001b[49m\u001b[43m(\u001b[49m\u001b[38;5;241;43m*\u001b[39;49m\u001b[43margs\u001b[49m\u001b[43m,\u001b[49m\u001b[43m \u001b[49m\u001b[38;5;241;43m*\u001b[39;49m\u001b[38;5;241;43m*\u001b[39;49m\u001b[43mkwds\u001b[49m\u001b[43m)\u001b[49m\n\u001b[1;32m     60\u001b[0m \u001b[38;5;28;01mexcept\u001b[39;00m \u001b[38;5;167;01mTypeError\u001b[39;00m:\n\u001b[1;32m     61\u001b[0m     \u001b[38;5;66;03m# A TypeError occurs if the object does have such a method in its\u001b[39;00m\n\u001b[1;32m     62\u001b[0m     \u001b[38;5;66;03m# class, but its signature is not identical to that of NumPy's. This\u001b[39;00m\n\u001b[0;32m   (...)\u001b[0m\n\u001b[1;32m     66\u001b[0m     \u001b[38;5;66;03m# Call _wrapit from within the except clause to ensure a potential\u001b[39;00m\n\u001b[1;32m     67\u001b[0m     \u001b[38;5;66;03m# exception has a traceback chain.\u001b[39;00m\n\u001b[1;32m     68\u001b[0m     \u001b[38;5;28;01mreturn\u001b[39;00m _wrapit(obj, method, \u001b[38;5;241m*\u001b[39margs, \u001b[38;5;241m*\u001b[39m\u001b[38;5;241m*\u001b[39mkwds)\n",
      "File \u001b[0;32m/usr/local/lib/python3.10/dist-packages/numpy/core/_methods.py:99\u001b[0m, in \u001b[0;36m_clip\u001b[0;34m(a, min, max, out, **kwargs)\u001b[0m\n\u001b[1;32m     97\u001b[0m     \u001b[38;5;28;01mreturn\u001b[39;00m um\u001b[38;5;241m.\u001b[39mmaximum(a, \u001b[38;5;28mmin\u001b[39m, out\u001b[38;5;241m=\u001b[39mout, \u001b[38;5;241m*\u001b[39m\u001b[38;5;241m*\u001b[39mkwargs)\n\u001b[1;32m     98\u001b[0m \u001b[38;5;28;01melse\u001b[39;00m:\n\u001b[0;32m---> 99\u001b[0m     \u001b[38;5;28;01mreturn\u001b[39;00m \u001b[43mum\u001b[49m\u001b[38;5;241;43m.\u001b[39;49m\u001b[43mclip\u001b[49m\u001b[43m(\u001b[49m\u001b[43ma\u001b[49m\u001b[43m,\u001b[49m\u001b[43m \u001b[49m\u001b[38;5;28;43mmin\u001b[39;49m\u001b[43m,\u001b[49m\u001b[43m \u001b[49m\u001b[38;5;28;43mmax\u001b[39;49m\u001b[43m,\u001b[49m\u001b[43m \u001b[49m\u001b[43mout\u001b[49m\u001b[38;5;241;43m=\u001b[39;49m\u001b[43mout\u001b[49m\u001b[43m,\u001b[49m\u001b[43m \u001b[49m\u001b[38;5;241;43m*\u001b[39;49m\u001b[38;5;241;43m*\u001b[39;49m\u001b[43mkwargs\u001b[49m\u001b[43m)\u001b[49m\n",
      "\u001b[0;31mKeyboardInterrupt\u001b[0m: "
     ]
    }
   ],
   "source": [
    "offline_sac(\n",
    "    data,\n",
    "    actor,\n",
    "    critic_1,\n",
    "    critic_2,\n",
    "    actor_optimizer,\n",
    "    critic_1_optimizer,\n",
    "    critic_2_optimizer,\n",
    "    total_episodes=10_000,\n",
    ")"
   ]
  },
  {
   "cell_type": "code",
   "execution_count": null,
   "metadata": {},
   "outputs": [],
   "source": []
  },
  {
   "cell_type": "code",
   "execution_count": null,
   "metadata": {},
   "outputs": [],
   "source": []
  },
  {
   "cell_type": "code",
   "execution_count": null,
   "metadata": {},
   "outputs": [],
   "source": []
  },
  {
   "cell_type": "code",
   "execution_count": null,
   "metadata": {},
   "outputs": [],
   "source": [
    "def cql_loss(\n",
    "    data,\n",
    "    actor: StochasticMlpPolicy,\n",
    "    critic_1: MlpQCritic,\n",
    "    critic_2: MlpQCritic,\n",
    "    alpha: float,\n",
    ") -> Dict[str, torch.Tensor]:\n",
    "\n",
    "    loss = {}\n",
    "\n",
    "    observations = data[\"observations\"]\n",
    "    actions = data[\"actions\"]\n",
    "\n",
    "    random_actions = torch.FloatTensor(actions.shape).uniform_(-1, 1)\n",
    "    \n",
    "    curr_policy_actions, curr_policy_log_probs = actor.get_action(observations)\n",
    "    \n",
    "    q1_values_dataset = critic_1(observations, actions)\n",
    "    q2_values_dataset = critic_2(observations, actions)\n",
    "    \n",
    "    q1_values_random = critic_1(observations, random_actions)\n",
    "    q2_values_random = critic_2(observations, random_actions)\n",
    "\n",
    "    q1_values_curr_policy = critic_1(observations, curr_policy_actions)\n",
    "    q2_values_curr_policy = critic_2(observations, curr_policy_actions)\n",
    "    \n",
    "    random_density = 0.5 ** actions.shape[1]  # Uniform(-1,1) probability\n",
    "    random_density_log_prob = torch.log(torch.tensor(random_density))\n",
    "\n",
    "    cat_q1_values = torch.cat([\n",
    "        q1_values_random - random_density_log_prob,\n",
    "        q1_values_curr_policy - curr_policy_log_probs.detach()\n",
    "    ], dim=1)\n",
    "    logsumexp_q1_values = torch.logsumexp(cat_q1_values, dim=1)\n",
    "\n",
    "    cat_q2_values = torch.cat([\n",
    "        q2_values_random - random_density_log_prob,\n",
    "        q2_values_curr_policy - curr_policy_log_probs.detach()\n",
    "    ], dim=1)\n",
    "    logsumexp_q2_values = torch.logsumexp(cat_q2_values, dim=1)\n",
    "    \n",
    "    loss[\"critic_1_reg\"] = alpha * (logsumexp_q1_values - q1_values_dataset).mean()\n",
    "    loss[\"critic_2_reg\"] = alpha * (logsumexp_q2_values - q2_values_dataset).mean()\n",
    "    \n",
    "    return loss"
   ]
  },
  {
   "cell_type": "code",
   "execution_count": null,
   "metadata": {},
   "outputs": [],
   "source": []
  },
  {
   "cell_type": "code",
   "execution_count": 55,
   "metadata": {},
   "outputs": [],
   "source": [
    "def cql_sac(\n",
    "    data,\n",
    "    actor: StochasticMlpPolicy,\n",
    "    critic_1: MlpQCritic,\n",
    "    critic_2: MlpQCritic,\n",
    "    actor_optimizer: Adam,\n",
    "    critic_1_optimizer: Adam,\n",
    "    critic_2_optimizer: Adam,\n",
    "    total_episodes: int = 10_000,\n",
    "    batch_size: int = 256,\n",
    "    target_update_frequency: int = 1,\n",
    "    alpha: float = 3,\n",
    "):\n",
    "    buffer = get_filled_buffer(\n",
    "        data[\"observations\"][0].shape[0], data[\"actions\"][0].shape[0], data\n",
    "    )\n",
    "\n",
    "    logger = TensorBoardLogger(log_dir=\"./tb_logs/cql_sac_\")\n",
    "\n",
    "    critic_1_target = deepcopy(critic_1)\n",
    "    critic_2_target = deepcopy(critic_2)\n",
    "\n",
    "    for episode_n in range(total_episodes):\n",
    "        batch = buffer.get_batch(batch_size)\n",
    "\n",
    "        loss_sac = sac_loss(\n",
    "            batch,\n",
    "            actor,\n",
    "            critic_1,\n",
    "            critic_2,\n",
    "            critic_1_target,\n",
    "            critic_2_target,\n",
    "        )\n",
    "\n",
    "        loss_cql = cql_loss(\n",
    "            batch,\n",
    "            actor,\n",
    "            critic_1,\n",
    "            critic_2,\n",
    "            alpha,\n",
    "        )\n",
    "\n",
    "        actor_optimizer.zero_grad()\n",
    "        loss_sac[\"actor\"].backward()\n",
    "        actor_optimizer.step()\n",
    "\n",
    "        critic_1_optimizer.zero_grad()\n",
    "        (loss_sac[\"critic_1\"] + loss_cql[\"critic_1_reg\"]).backward()\n",
    "        critic_1_optimizer.step()\n",
    "\n",
    "        critic_2_optimizer.zero_grad()\n",
    "        (loss_sac[\"critic_2\"] + loss_cql[\"critic_2_reg\"]).backward()\n",
    "        critic_2_optimizer.step()\n",
    "\n",
    "        if episode_n % target_update_frequency == 0:\n",
    "            critic_1_target = smooth_update(critic_1, critic_1_target)\n",
    "            critic_2_target = smooth_update(critic_2, critic_2_target)\n",
    "\n",
    "        # Logging\n",
    "        logger.log_scalars(loss_sac, episode_n)\n",
    "        logger.log_scalars(loss_cql, episode_n)\n",
    "\n",
    "        if episode_n % 100 == 0:\n",
    "            logs = {}            \n",
    "            trajectory = get_trajectory(env, actor)\n",
    "            logs[\"eval_traj_reward\"] = np.sum(trajectory[\"rewards\"])\n",
    "            logger.log_scalars(logs, episode_n)"
   ]
  },
  {
   "cell_type": "code",
   "execution_count": null,
   "metadata": {},
   "outputs": [],
   "source": []
  },
  {
   "cell_type": "code",
   "execution_count": 56,
   "metadata": {},
   "outputs": [],
   "source": [
    "data = torch.load(\"./models/pendulum_expert_data\")"
   ]
  },
  {
   "cell_type": "code",
   "execution_count": 57,
   "metadata": {},
   "outputs": [],
   "source": [
    "actor = StochasticMlpPolicy(obs_dim, action_dim)\n",
    "critic_1 = MlpQCritic(obs_dim, action_dim)\n",
    "critic_2 = MlpQCritic(obs_dim, action_dim)\n",
    "\n",
    "actor_optimizer = Adam(actor.parameters(), lr=1e-3)\n",
    "critic_1_optimizer = Adam(critic_1.parameters(), lr=1e-3)\n",
    "critic_2_optimizer = Adam(critic_2.parameters(), lr=1e-3)"
   ]
  },
  {
   "cell_type": "code",
   "execution_count": 58,
   "metadata": {},
   "outputs": [
    {
     "name": "stderr",
     "output_type": "stream",
     "text": [
      "/tmp/ipykernel_3827404/3226795155.py:4: UserWarning: To copy construct from a tensor, it is recommended to use sourceTensor.clone().detach() or sourceTensor.clone().detach().requires_grad_(True), rather than torch.tensor(sourceTensor).\n",
      "  rb.observations = torch.tensor(data[\"observations\"][:-1, :], dtype=torch.float32).squeeze(dim=1).detach()\n",
      "/tmp/ipykernel_3827404/3226795155.py:5: UserWarning: To copy construct from a tensor, it is recommended to use sourceTensor.clone().detach() or sourceTensor.clone().detach().requires_grad_(True), rather than torch.tensor(sourceTensor).\n",
      "  rb.next_observations = torch.tensor(data[\"observations\"][1:, :], dtype=torch.float32).squeeze(dim=1).detach()\n",
      "/tmp/ipykernel_3827404/3226795155.py:6: UserWarning: To copy construct from a tensor, it is recommended to use sourceTensor.clone().detach() or sourceTensor.clone().detach().requires_grad_(True), rather than torch.tensor(sourceTensor).\n",
      "  rb.actions = torch.tensor(data[\"actions\"][:-1, :], dtype=torch.float32).detach()\n",
      "/tmp/ipykernel_3827404/3226795155.py:7: UserWarning: To copy construct from a tensor, it is recommended to use sourceTensor.clone().detach() or sourceTensor.clone().detach().requires_grad_(True), rather than torch.tensor(sourceTensor).\n",
      "  rb.rewards = torch.tensor(data[\"rewards\"][:-1, :], dtype=torch.float32).reshape(-1, 1).detach()\n",
      "/tmp/ipykernel_3827404/3226795155.py:8: UserWarning: To copy construct from a tensor, it is recommended to use sourceTensor.clone().detach() or sourceTensor.clone().detach().requires_grad_(True), rather than torch.tensor(sourceTensor).\n",
      "  rb.terminated = torch.tensor(data[\"terminated\"][:-1, :], dtype=torch.int8).reshape(-1, 1).detach()\n",
      "/tmp/ipykernel_3827404/3226795155.py:9: UserWarning: To copy construct from a tensor, it is recommended to use sourceTensor.clone().detach() or sourceTensor.clone().detach().requires_grad_(True), rather than torch.tensor(sourceTensor).\n",
      "  rb.truncated = torch.tensor(data[\"truncated\"][:-1, :], dtype=torch.int8).reshape(-1, 1).detach()\n",
      "/app/rlib/common/buffer.py:167: UserWarning: To copy construct from a tensor, it is recommended to use sourceTensor.clone().detach() or sourceTensor.clone().detach().requires_grad_(True), rather than torch.tensor(sourceTensor).\n",
      "  \"observations\": torch.tensor(\n",
      "/app/rlib/common/buffer.py:170: UserWarning: To copy construct from a tensor, it is recommended to use sourceTensor.clone().detach() or sourceTensor.clone().detach().requires_grad_(True), rather than torch.tensor(sourceTensor).\n",
      "  \"next_observations\": torch.tensor(\n",
      "/app/rlib/common/buffer.py:173: UserWarning: To copy construct from a tensor, it is recommended to use sourceTensor.clone().detach() or sourceTensor.clone().detach().requires_grad_(True), rather than torch.tensor(sourceTensor).\n",
      "  \"actions\": torch.tensor(self.actions[indices], dtype=torch.float32),\n",
      "/app/rlib/common/buffer.py:174: UserWarning: To copy construct from a tensor, it is recommended to use sourceTensor.clone().detach() or sourceTensor.clone().detach().requires_grad_(True), rather than torch.tensor(sourceTensor).\n",
      "  \"rewards\": torch.tensor(self.rewards[indices], dtype=torch.float32),\n",
      "/app/rlib/common/buffer.py:175: UserWarning: To copy construct from a tensor, it is recommended to use sourceTensor.clone().detach() or sourceTensor.clone().detach().requires_grad_(True), rather than torch.tensor(sourceTensor).\n",
      "  \"terminated\": torch.tensor(self.terminated[indices], dtype=torch.int8),\n",
      "/app/rlib/common/buffer.py:176: UserWarning: To copy construct from a tensor, it is recommended to use sourceTensor.clone().detach() or sourceTensor.clone().detach().requires_grad_(True), rather than torch.tensor(sourceTensor).\n",
      "  \"truncated\": torch.tensor(self.truncated[indices], dtype=torch.int8),\n"
     ]
    }
   ],
   "source": [
    "cql_sac(\n",
    "    data,\n",
    "    actor,\n",
    "    critic_1,\n",
    "    critic_2,\n",
    "    actor_optimizer,\n",
    "    critic_1_optimizer,\n",
    "    critic_2_optimizer,\n",
    "    total_episodes=10_000,\n",
    "    alpha=0,\n",
    ")"
   ]
  },
  {
   "cell_type": "code",
   "execution_count": null,
   "metadata": {},
   "outputs": [],
   "source": []
  },
  {
   "cell_type": "code",
   "execution_count": null,
   "metadata": {},
   "outputs": [],
   "source": []
  },
  {
   "cell_type": "code",
   "execution_count": null,
   "metadata": {},
   "outputs": [],
   "source": []
  },
  {
   "cell_type": "code",
   "execution_count": null,
   "metadata": {},
   "outputs": [],
   "source": []
  },
  {
   "cell_type": "code",
   "execution_count": 58,
   "metadata": {},
   "outputs": [],
   "source": [
    "rb = RolloutBuffer()"
   ]
  },
  {
   "cell_type": "code",
   "execution_count": 60,
   "metadata": {},
   "outputs": [],
   "source": [
    "rb.collect_rollouts(env, actor, rollout_size=10)"
   ]
  },
  {
   "cell_type": "code",
   "execution_count": 61,
   "metadata": {},
   "outputs": [
    {
     "name": "stderr",
     "output_type": "stream",
     "text": [
      "/app/rlib/common/buffer.py:31: UserWarning: Creating a tensor from a list of numpy.ndarrays is extremely slow. Please consider converting the list to a single numpy.ndarray with numpy.array() before converting to a tensor. (Triggered internally at /pytorch/torch/csrc/utils/tensor_new.cpp:254.)\n",
      "  return torch.tensor(value, dtype=dtype)\n"
     ]
    }
   ],
   "source": [
    "data = rb.get_data()"
   ]
  },
  {
   "cell_type": "code",
   "execution_count": null,
   "metadata": {},
   "outputs": [
    {
     "name": "stdout",
     "output_type": "stream",
     "text": [
      "torch.Size([10, 1]) torch.Size([10, 1]) torch.Size([])\n"
     ]
    }
   ],
   "source": [
    "observations = data[\"observations\"]\n",
    "actions = data[\"actions\"]\n",
    "rewards = data[\"rewards\"]\n",
    "terminated = data[\"terminated\"]\n",
    "\n",
    "# 1. Сэмплируем действия из текущей политики\n",
    "actor_actions, _ = actor.get_action(observations)\n",
    "\n",
    "# 2. Сэмплируем случайные действия из равномерного распределения\n",
    "random_actions = 2 * torch.rand(actor_actions.shape) - 1\n",
    "\n",
    "# 3. Берём смесь случайных и политических действий\n",
    "mix_mask = torch.randint(0, 2, rewards.shape, dtype=torch.bool)\n",
    "sampled_actions = torch.where(mix_mask, actor_actions, random_actions)\n",
    "\n",
    "# 4. Вычисляем Q-значения для sampled действий\n",
    "q1_sampled = critic_1(observations, sampled_actions)\n",
    "q2_sampled = critic_2(observations, sampled_actions)\n",
    "\n",
    "# 5. Вычисляем CQL-потерю\n",
    "alpha = 0.3\n",
    "cql1_loss = alpha * (q1_sampled.mean() - critic_1(observations, actions).mean())\n",
    "cql2_loss = alpha * (q2_sampled.mean() - critic_2(observations, actions).mean())\n"
   ]
  },
  {
   "cell_type": "code",
   "execution_count": null,
   "metadata": {},
   "outputs": [],
   "source": []
  }
 ],
 "metadata": {
  "kernelspec": {
   "display_name": "Python 3",
   "language": "python",
   "name": "python3"
  },
  "language_info": {
   "codemirror_mode": {
    "name": "ipython",
    "version": 3
   },
   "file_extension": ".py",
   "mimetype": "text/x-python",
   "name": "python",
   "nbconvert_exporter": "python",
   "pygments_lexer": "ipython3",
   "version": "3.10.12"
  }
 },
 "nbformat": 4,
 "nbformat_minor": 2
}
