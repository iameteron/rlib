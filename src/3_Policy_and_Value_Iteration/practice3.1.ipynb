{
 "cells": [
  {
   "cell_type": "code",
   "execution_count": 1,
   "id": "45418c61-4b18-4a3d-921a-ff0edaa45b6f",
   "metadata": {},
   "outputs": [
    {
     "name": "stderr",
     "output_type": "stream",
     "text": [
      "Warning: Gym version v0.24.0 has a number of critical issues with `gym.make` such that the `reset` and `step` functions are called before returning the environment. It is recommend to downgrading to v0.23.1 or upgrading to v0.25.1\n"
     ]
    }
   ],
   "source": [
    "from Frozen_Lake import FrozenLakeEnv\n",
    "\n",
    "env = FrozenLakeEnv()"
   ]
  },
  {
   "cell_type": "code",
   "execution_count": 2,
   "id": "a9e7cf3b-5bd1-4441-8f6a-23e8b4064745",
   "metadata": {},
   "outputs": [
    {
     "data": {
      "text/plain": [
       "((0, 0),\n",
       " (0, 1),\n",
       " (0, 2),\n",
       " (0, 3),\n",
       " (1, 0),\n",
       " (1, 1),\n",
       " (1, 2),\n",
       " (1, 3),\n",
       " (2, 0),\n",
       " (2, 1),\n",
       " (2, 2),\n",
       " (2, 3),\n",
       " (3, 0),\n",
       " (3, 1),\n",
       " (3, 2),\n",
       " (3, 3))"
      ]
     },
     "execution_count": 2,
     "metadata": {},
     "output_type": "execute_result"
    }
   ],
   "source": [
    "env.get_all_states()"
   ]
  },
  {
   "cell_type": "code",
   "execution_count": 8,
   "id": "de597622-1229-4e51-87b7-98e6d29e2123",
   "metadata": {},
   "outputs": [
    {
     "data": {
      "text/plain": [
       "('left', 'down', 'right', 'up')"
      ]
     },
     "execution_count": 8,
     "metadata": {},
     "output_type": "execute_result"
    }
   ],
   "source": [
    "state = (0, 0)\n",
    "env.get_possible_actions(state)"
   ]
  },
  {
   "cell_type": "code",
   "execution_count": 9,
   "id": "7e991236-2615-45a6-873c-60886ec0f879",
   "metadata": {},
   "outputs": [
    {
     "name": "stdout",
     "output_type": "stream",
     "text": [
      "*FFF\n",
      "FHFH\n",
      "FFFH\n",
      "HFFG\n",
      "\n"
     ]
    }
   ],
   "source": [
    "env.render()"
   ]
  },
  {
   "cell_type": "code",
   "execution_count": 33,
   "id": "7fe87409-625a-4ead-b874-9d07b535b923",
   "metadata": {},
   "outputs": [
    {
     "data": {
      "text/plain": [
       "{(1, 0): 0.1, (2, 0): 0.8, (1, 1): 0.1}"
      ]
     },
     "execution_count": 33,
     "metadata": {},
     "output_type": "execute_result"
    }
   ],
   "source": [
    "state = (1, 0)\n",
    "action = 'down'\n",
    "env.get_next_states(state, action)"
   ]
  },
  {
   "cell_type": "code",
   "execution_count": 17,
   "id": "c1fde236-040a-4062-a3f2-42b8474b6670",
   "metadata": {},
   "outputs": [
    {
     "data": {
      "text/plain": [
       "0.0"
      ]
     },
     "execution_count": 17,
     "metadata": {},
     "output_type": "execute_result"
    }
   ],
   "source": [
    "next_state = (3, 1)\n",
    "env.get_transition_prob(state, action, next_state)"
   ]
  },
  {
   "cell_type": "code",
   "execution_count": 18,
   "id": "ad315e63-6fe7-4a5b-ac69-f45ab6bb64c7",
   "metadata": {},
   "outputs": [
    {
     "data": {
      "text/plain": [
       "0.0"
      ]
     },
     "execution_count": 18,
     "metadata": {},
     "output_type": "execute_result"
    }
   ],
   "source": [
    "env.get_reward(state, action, next_state)"
   ]
  },
  {
   "cell_type": "code",
   "execution_count": 28,
   "id": "e6efeaf1-7917-412e-9d62-9ec6b935edec",
   "metadata": {},
   "outputs": [
    {
     "data": {
      "text/plain": [
       "True"
      ]
     },
     "execution_count": 28,
     "metadata": {},
     "output_type": "execute_result"
    }
   ],
   "source": [
    "state = (1,1)\n",
    "env.is_terminal(state)"
   ]
  },
  {
   "cell_type": "code",
   "execution_count": 24,
   "id": "ce0fb78d-d23e-4595-9359-8f38db21e6b0",
   "metadata": {},
   "outputs": [
    {
     "data": {
      "text/plain": [
       "array([['S', 'F', 'F', 'F'],\n",
       "       ['F', 'H', 'F', 'H'],\n",
       "       ['F', 'F', 'F', 'H'],\n",
       "       ['H', 'F', 'F', 'G']], dtype='<U1')"
      ]
     },
     "execution_count": 24,
     "metadata": {},
     "output_type": "execute_result"
    }
   ],
   "source": [
    "env.desc"
   ]
  },
  {
   "cell_type": "code",
   "execution_count": 29,
   "id": "d56feeae",
   "metadata": {},
   "outputs": [
    {
     "data": {
      "text/plain": [
       "False"
      ]
     },
     "execution_count": 29,
     "metadata": {},
     "output_type": "execute_result"
    }
   ],
   "source": [
    "state = (0, 0)\n",
    "env.is_terminal(state)"
   ]
  },
  {
   "cell_type": "code",
   "execution_count": null,
   "id": "d65fd778",
   "metadata": {},
   "outputs": [],
   "source": []
  }
 ],
 "metadata": {
  "kernelspec": {
   "display_name": "Python 3 (ipykernel)",
   "language": "python",
   "name": "python3"
  },
  "language_info": {
   "codemirror_mode": {
    "name": "ipython",
    "version": 3
   },
   "file_extension": ".py",
   "mimetype": "text/x-python",
   "name": "python",
   "nbconvert_exporter": "python",
   "pygments_lexer": "ipython3",
   "version": "3.11.1"
  }
 },
 "nbformat": 4,
 "nbformat_minor": 5
}
