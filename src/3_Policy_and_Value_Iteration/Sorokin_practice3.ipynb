{
 "cells": [
  {
   "cell_type": "markdown",
   "metadata": {},
   "source": [
    "# DRL Course 2023 Домашнее задание 3 #\n",
    "\n",
    "Отчет по выполнению домашнего задания, Nikita Sorokin"
   ]
  },
  {
   "cell_type": "markdown",
   "metadata": {},
   "source": [
    "## Задание 1 \n",
    "В алгоритме Policy Iteration важным гиперпараметром является gamma. Требуется ответить на вопрос, какой gamma лучше выбирать. Качество обученной политики можно оценивать например запуская среду 1000 раз и взяв после этого средний total_reward. "
   ]
  },
  {
   "cell_type": "markdown",
   "metadata": {},
   "source": [
    "Описание алгоритма:\n",
    "\n",
    "Введем две функции:\n",
    "\n",
    "$$\n",
    "v_\\pi(s) := \\mathbb{E}_\\pi[G|S_0=s], \\quad q_\\pi(s, a) := \\mathbb{E}_\\pi[G|S_0=s, A_0=a]\n",
    "$$\n",
    "\n",
    "Для них можно записать уравнения Беллмана:\n",
    "\n",
    "$$ \n",
    "v_\\pi(s) = \\sum_a \\pi(a|s) \\Big( R(s, a) + \\gamma \\sum_{s'} P(s' | s, a) v_\\pi(s') \\Big) \\\\[6pt]\n",
    "q_\\pi(s, a) = R(s, a) + \\gamma \\sum_{s'} P(s' | s, a) \\sum_{a'} \\pi(a'|s') q_\\pi (s', a') \\\\[6pt]\n",
    "$$\n",
    "\n",
    "Из этих соотношений находится связь между функциями $ v_\\pi(s) $ и $ q_\\pi(s) $:\n",
    "\n",
    "$$\n",
    "v_\\pi(s) = \\sum_a \\pi(a|s) q_\\pi(s, a) \\\\[6pt]\n",
    "q_\\pi(s, a) = R(s, a) + \\gamma \\sum_{s'} P(s' | s, a)  v_\\pi(s')\n",
    "$$\n",
    "\n",
    "В поставленной задачи награда зависит от следующего состояния поэтому полученная формула для $v_\\pi(s) $ примут вид:\n",
    "\n",
    "$$\n",
    "q_\\pi(s,a) = \\sum_{s'} P(s'|s,a) \\Big( R(s,a,s') + \\gamma v_\\pi (s')\\Big)\n",
    "$$"
   ]
  },
  {
   "cell_type": "markdown",
   "metadata": {},
   "source": [
    "### Policy Iteration:\n",
    "\n",
    "1. (Policy Evaluation) \n",
    "$$\n",
    "v_{\\pi}^{l + 1}(s) = \\sum_a \\pi(a|s) q_{\\pi}^{l} (s, a), \\quad l \\in \\overline{0, L-1} \n",
    "$$  \n",
    "\n",
    "Находим $ q_{\\pi}^{L}(s, a) $ по $ v_{\\pi}^{L}(s) $\n",
    "\n",
    "2. (Policy Improvement)\n",
    "\n",
    "$$\n",
    "\n",
    "\\pi^{k + 1}(a|s) =\n",
    "\n",
    "\\begin{cases}\n",
    "1, \\text{if} \\,\\, a \\in argmax_{a' \\in A} q_{\\pi}^{L} (s, a') \\\\\n",
    "0, \\text{else} \\\\\n",
    "\\end{cases}\n",
    "\n",
    "$$"
   ]
  },
  {
   "cell_type": "code",
   "execution_count": 1,
   "metadata": {},
   "outputs": [
    {
     "name": "stderr",
     "output_type": "stream",
     "text": [
      "Warning: Gym version v0.24.0 has a number of critical issues with `gym.make` such that the `reset` and `step` functions are called before returning the environment. It is recommend to downgrading to v0.23.1 or upgrading to v0.25.1\n"
     ]
    }
   ],
   "source": [
    "import numpy as np\n",
    "import time\n",
    "import os\n",
    "from tqdm import tqdm\n",
    "from Frozen_Lake import FrozenLakeEnv\n",
    "import matplotlib.pyplot as plt\n",
    "import seaborn as sns\n",
    "from tqdm import tqdm\n",
    "\n",
    "sns.set()"
   ]
  },
  {
   "cell_type": "code",
   "execution_count": 2,
   "metadata": {},
   "outputs": [],
   "source": [
    "env = FrozenLakeEnv()"
   ]
  },
  {
   "cell_type": "code",
   "execution_count": 3,
   "metadata": {},
   "outputs": [],
   "source": [
    "class DPAgent():\n",
    "    def __init__(self, env):\n",
    "        self.env = env\n",
    "        self.policy = self.init_policy()\n",
    "\n",
    "    def init_policy(self):\n",
    "        policy = {}\n",
    "        for state in self.env.get_all_states():\n",
    "            policy[state] = {}\n",
    "            for action in self.env.get_possible_actions(state):\n",
    "                policy[state][action] = 1 / len(self.env.get_possible_actions(state))\n",
    "        return policy\n",
    "\n",
    "    def init_v_values(self):\n",
    "        v_values = {}\n",
    "        for state in self.env.get_all_states():\n",
    "            v_values[state] = 0\n",
    "        return v_values\n",
    "\n",
    "    def get_q_values(self, v_values, gamma):\n",
    "        q_values = {}\n",
    "        for state in self.env.get_all_states():\n",
    "            q_values[state] = {}\n",
    "            for action in self.env.get_possible_actions(state):\n",
    "                q_values[state][action] = 0\n",
    "                for next_state in self.env.get_next_states(state, action):\n",
    "                    q_values[state][action] += self.env.get_transition_prob(state, action, next_state) * self.env.get_reward(state, action, next_state)\n",
    "                    q_values[state][action] += gamma * self.env.get_transition_prob(state, action, next_state) * v_values[next_state]\n",
    "        return q_values\n",
    "\n",
    "    def policy_evaluation_step(self, v_values, policy, gamma, algo):\n",
    "        q_values = self.get_q_values(v_values, gamma)\n",
    "        new_v_values = self.init_v_values()\n",
    "        for state in self.env.get_all_states():\n",
    "            new_v_values[state] = 0\n",
    "            if algo == 'policy':\n",
    "                for action in self.env.get_possible_actions(state):\n",
    "                    new_v_values[state] += policy[state][action] * q_values[state][action]\n",
    "            if algo == 'value':\n",
    "                try:\n",
    "                    new_v_values[state] = max(q_values[state].values())\n",
    "                except Exception:\n",
    "                    new_v_values[state] = 0\n",
    "\n",
    "        return new_v_values\n",
    "        \n",
    "    def policy_evaluation(self, policy, gamma, eps, v_values, algo):\n",
    "        new_v_values = self.policy_evaluation_step(v_values, policy, gamma, algo)\n",
    "        delta_v = abs(np.array(list(v_values.values())) - np.array(list(new_v_values.values())))\n",
    "\n",
    "        while(max(delta_v) > eps):\n",
    "            v_values = new_v_values\n",
    "            new_v_values = self.policy_evaluation_step(v_values, policy, gamma, algo)\n",
    "            delta_v = abs(np.array(list(v_values.values())) - np.array(list(new_v_values.values())))\n",
    "\n",
    "        q_values = self.get_q_values(v_values, gamma)\n",
    "\n",
    "        return q_values, v_values\n",
    "\n",
    "    def policy_improvement(self, q_values):\n",
    "        policy = {}\n",
    "        for state in self.env.get_all_states():\n",
    "            policy[state] = {}\n",
    "            argmax_action = None\n",
    "            max_q_value = float('-inf')\n",
    "            for action in self.env.get_possible_actions(state): \n",
    "                policy[state][action] = 0\n",
    "                if q_values[state][action] > max_q_value:\n",
    "                    argmax_action = action\n",
    "                    max_q_value = q_values[state][action]\n",
    "            policy[state][argmax_action] = 1\n",
    "\n",
    "        return policy\n",
    "\n",
    "    def train(self, iter_n, eps, gamma, algo, save_v_values=False):\n",
    "        policy = self.init_policy()\n",
    "        v_values = self.init_v_values()\n",
    "        for _ in range(iter_n):\n",
    "            if save_v_values == False:\n",
    "                v_values = self.init_v_values()\n",
    "            q_values, v_values = self.policy_evaluation(policy, gamma, eps, v_values, algo)\n",
    "            policy = self.policy_improvement(q_values)\n",
    "\n",
    "        self.policy = policy\n",
    "\n",
    "        return policy\n",
    "\n",
    "    def validation(self, validation_n):\n",
    "        total_rewards = []\n",
    "        for _ in range(validation_n):\n",
    "            total_reward = 0\n",
    "            state = self.env.reset()\n",
    "            while(True):\n",
    "                action = np.random.choice(self.env.get_possible_actions(state), p=list(self.policy[state].values()))\n",
    "                state, reward, done, _ = self.env.step(action)\n",
    "                total_reward += reward\n",
    "                if done:\n",
    "                    break\n",
    "            total_rewards.append(total_reward)\n",
    "\n",
    "        return np.mean(total_rewards)\n",
    "\n",
    "    def visualize_trajectory(self, policy):\n",
    "        total_reward = 0\n",
    "        state = self.env.reset()\n",
    "        done = False\n",
    "        while(done == False):\n",
    "            action = np.random.choice(self.env.get_possible_actions(state), p=list(policy[state].values()))\n",
    "            state, reward, done, _ = self.env.step(action)\n",
    "            total_reward += reward\n",
    "\n",
    "            clear_output(wait=True)\n",
    "            self.env.render()\n",
    "            time.sleep(1)\n",
    "            \n",
    "            if done:\n",
    "                break"
   ]
  },
  {
   "cell_type": "markdown",
   "metadata": {},
   "source": [
    "Посмотрим сколько итераций mean total reward от количества итераций алгоритма при фиксированных $ \\gamma $ и $ \\varepsilon $:"
   ]
  },
  {
   "cell_type": "code",
   "execution_count": 4,
   "metadata": {},
   "outputs": [],
   "source": [
    "def iter_n_search(max_iter, eps, gamma, algo, validation_n, save_v_values=False):\n",
    "    \n",
    "    fig, axs = plt.subplots(figsize=(10, 6))\n",
    "\n",
    "    mean_rewards = []\n",
    "    for iter in range(0, max_iter + 1):\n",
    "        agent = DPAgent(env)\n",
    "        agent.train(iter, eps, gamma, algo, save_v_values)\n",
    "        mean_total_reward = agent.validation(validation_n)\n",
    "        mean_rewards.append(mean_total_reward)\n",
    "    \n",
    "    iters = np.arange(0, max_iter + 1)\n",
    "\n",
    "    axs.set_xlabel('algorithm iteration')\n",
    "    axs.set_ylabel('mean total reward')\n",
    "    axs.plot(iters, mean_rewards, label=f'eps={eps}, gamma={gamma}')\n",
    "    plt.legend()\n",
    "    plt.savefig('iter_n_search.png')\n",
    "\n",
    "    return mean_rewards"
   ]
  },
  {
   "cell_type": "code",
   "execution_count": 5,
   "metadata": {},
   "outputs": [
    {
     "name": "stdout",
     "output_type": "stream",
     "text": [
      "[0.01, 0.74, 0.86, 0.93, 0.89, 0.98, 0.87, 0.97, 0.84, 0.95, 0.81, 0.99, 0.85, 0.98, 0.86, 0.99, 0.93, 0.94, 0.86, 0.97, 0.91]\n"
     ]
    },
    {
     "data": {
      "image/png": "[encoded data removed]",
      "text/plain": [
       "<Figure size 1000x600 with 1 Axes>"
      ]
     },
     "metadata": {},
     "output_type": "display_data"
    }
   ],
   "source": [
    "max_iter = 20\n",
    "eps = 0.0003\n",
    "gamma = 0.999\n",
    "algo = 'policy'\n",
    "validation_n = 100\n",
    "\n",
    "mean_rewards = iter_n_search(max_iter, eps, gamma, algo, validation_n)\n",
    "print(mean_rewards)"
   ]
  },
  {
   "cell_type": "markdown",
   "metadata": {},
   "source": [
    "Можно сделать вывод, что с примерно с третьей итерации алгоритм выходит на плато. Будем использовать iter_n = 5"
   ]
  },
  {
   "cell_type": "markdown",
   "metadata": {},
   "source": [
    "С помощью grid-search будем искать наилучшие параметры $ \\gamma $ и $ \\varepsilon $:"
   ]
  },
  {
   "cell_type": "code",
   "execution_count": 6,
   "metadata": {},
   "outputs": [],
   "source": [
    "def grid_search(iter_n, params, algo, validation_n):\n",
    "\n",
    "    results = np.zeros((params['gamma'].size, params['eps'].size))\n",
    "\n",
    "    for i, gamma in tqdm(enumerate(params['gamma'])):\n",
    "        for j, eps in enumerate(params['eps']):\n",
    "            agent = DPAgent(env)\n",
    "            policy = agent.train(iter_n, eps, gamma, algo)\n",
    "            mean_total_reward = agent.validation(validation_n)\n",
    "            results[i][j] = mean_total_reward\n",
    "\n",
    "    return results"
   ]
  },
  {
   "cell_type": "code",
   "execution_count": 7,
   "metadata": {},
   "outputs": [],
   "source": [
    "params = {\n",
    "    'gamma': np.array([0.9, 0.99, 0.9999, 1]),\n",
    "    'eps': np.array([0.03, 0.0003, 0.000003])\n",
    "}"
   ]
  },
  {
   "cell_type": "code",
   "execution_count": 8,
   "metadata": {},
   "outputs": [
    {
     "name": "stderr",
     "output_type": "stream",
     "text": [
      "0it [00:00, ?it/s]"
     ]
    },
    {
     "name": "stderr",
     "output_type": "stream",
     "text": [
      "4it [01:29, 22.25s/it]\n"
     ]
    }
   ],
   "source": [
    "iter_n = 5\n",
    "algo = 'policy'\n",
    "validation_n = 1000\n",
    "\n",
    "results = grid_search(iter_n, params, algo, validation_n)"
   ]
  },
  {
   "cell_type": "code",
   "execution_count": 9,
   "metadata": {},
   "outputs": [
    {
     "name": "stdout",
     "output_type": "stream",
     "text": [
      "gamma = 0.9,\t eps = 0.03: \t mean_total_reward = 0.747\n",
      "gamma = 0.9,\t eps = 0.0003: \t mean_total_reward = 0.735\n",
      "gamma = 0.9,\t eps = 3e-06: \t mean_total_reward = 0.723\n",
      "gamma = 0.99,\t eps = 0.03: \t mean_total_reward = 0.746\n",
      "gamma = 0.99,\t eps = 0.0003: \t mean_total_reward = 0.84\n",
      "gamma = 0.99,\t eps = 3e-06: \t mean_total_reward = 0.849\n",
      "gamma = 0.9999,\t eps = 0.03: \t mean_total_reward = 0.739\n",
      "gamma = 0.9999,\t eps = 0.0003: \t mean_total_reward = 0.997\n",
      "gamma = 0.9999,\t eps = 3e-06: \t mean_total_reward = 0.996\n",
      "gamma = 1.0,\t eps = 0.03: \t mean_total_reward = 0.733\n",
      "gamma = 1.0,\t eps = 0.0003: \t mean_total_reward = 0.995\n",
      "gamma = 1.0,\t eps = 3e-06: \t mean_total_reward = 0.995\n"
     ]
    }
   ],
   "source": [
    "for i, gamma in enumerate(params['gamma']):\n",
    "    for j, eps in enumerate(params['eps']):\n",
    "        print(f'gamma = {gamma},\\t eps = {eps}: \\t mean_total_reward = {results[i, j]}')"
   ]
  },
  {
   "cell_type": "markdown",
   "metadata": {},
   "source": [
    "Следовательно, лучшие параметрами являются: $ \\gamma = 0.9999 $ и $ \\varepsilon = 0.000006 $"
   ]
  },
  {
   "cell_type": "markdown",
   "metadata": {},
   "source": [
    "## Задание 2"
   ]
  },
  {
   "cell_type": "markdown",
   "metadata": {},
   "source": [
    "На шаге Policy Evaluation мы каждый раз начинаем с нулевых values. А что будет если вместо этого начинать с values обученных на предыдущем шаге? Будет ли алгоритм работать? Если да, то будет ли он работать лучше? "
   ]
  },
  {
   "cell_type": "markdown",
   "metadata": {},
   "source": [
    "В функцию train добавим условие при выполнении которого v_values будут не обнуляться, а передаваться  в следующую итерациюк policy_evaluation.\n",
    "\n",
    "Реализация:\n",
    "\n",
    "```python\n",
    "    def train(self, iter_n, eps, gamma, algo, save_v_values=False):\n",
    "\n",
    "        ...\n",
    "\n",
    "        for _ in range(iter_n):\n",
    "\n",
    "            if save_v_values == False:\n",
    "                v_values = self.init_v_values()\n",
    "\n",
    "            q_values, v_values = self.policy_evaluation(policy, gamma, eps, v_values, algo)\n",
    "            policy = self.policy_improvement(q_values)\n",
    "\n",
    "        ...\n",
    "\n",
    "        return policy\n",
    "```"
   ]
  },
  {
   "cell_type": "code",
   "execution_count": 10,
   "metadata": {},
   "outputs": [],
   "source": [
    "def grid_search(iter_n, params, algo, validation_n):\n",
    "\n",
    "    results = np.zeros((params['gamma'].size, params['eps'].size, 2))\n",
    "\n",
    "    for i, gamma in tqdm(enumerate(params['gamma'])):\n",
    "        for j, eps in enumerate(params['eps']):\n",
    "            agent1 = DPAgent(env)\n",
    "            agent2 = DPAgent(env)\n",
    "            agent1.train(iter_n, eps, gamma, algo, save_v_values=False)\n",
    "            agent2.train(iter_n, eps, gamma, algo, save_v_values=True)\n",
    "            mean_total_reward1 = agent1.validation(validation_n)\n",
    "            mean_total_reward2 = agent2.validation(validation_n)\n",
    "            results[i][j][0] = mean_total_reward1\n",
    "            results[i][j][1] = mean_total_reward2\n",
    "\n",
    "    return results"
   ]
  },
  {
   "cell_type": "code",
   "execution_count": 11,
   "metadata": {},
   "outputs": [],
   "source": [
    "params = {\n",
    "    'gamma': np.array([0.99, 0.9999]),\n",
    "    'eps': np.array([0.003, 0.000003])\n",
    "}"
   ]
  },
  {
   "cell_type": "code",
   "execution_count": 12,
   "metadata": {},
   "outputs": [
    {
     "name": "stderr",
     "output_type": "stream",
     "text": [
      "0it [00:00, ?it/s]"
     ]
    },
    {
     "name": "stderr",
     "output_type": "stream",
     "text": [
      "2it [00:45, 22.64s/it]\n"
     ]
    }
   ],
   "source": [
    "iter_n = 10\n",
    "algo = 'policy'\n",
    "validation_n = 1000\n",
    "\n",
    "results = grid_search(iter_n, params, algo, validation_n)"
   ]
  },
  {
   "cell_type": "code",
   "execution_count": 13,
   "metadata": {},
   "outputs": [
    {
     "name": "stdout",
     "output_type": "stream",
     "text": [
      "gamma = 0.99,\t eps = 0.003, \t save_v_values = False:\t mean_total_reward = 0.746\n",
      "gamma = 0.99,\t eps = 0.003, \t save_v_values = True: \t mean_total_reward = 0.851 \n",
      "\n",
      "gamma = 0.99,\t eps = 3e-06, \t save_v_values = False:\t mean_total_reward = 0.864\n",
      "gamma = 0.99,\t eps = 3e-06, \t save_v_values = True: \t mean_total_reward = 0.839 \n",
      "\n",
      "gamma = 0.9999,\t eps = 0.003, \t save_v_values = False:\t mean_total_reward = 0.872\n",
      "gamma = 0.9999,\t eps = 0.003, \t save_v_values = True: \t mean_total_reward = 0.969 \n",
      "\n",
      "gamma = 0.9999,\t eps = 3e-06, \t save_v_values = False:\t mean_total_reward = 0.996\n",
      "gamma = 0.9999,\t eps = 3e-06, \t save_v_values = True: \t mean_total_reward = 0.996 \n",
      "\n"
     ]
    }
   ],
   "source": [
    "for i, gamma in enumerate(params['gamma']):\n",
    "    for j, eps in enumerate(params['eps']):\n",
    "        print(f'gamma = {gamma},\\t eps = {eps}, \\t save_v_values = False:\\t mean_total_reward = {results[i, j, 0]}')\n",
    "        print(f'gamma = {gamma},\\t eps = {eps}, \\t save_v_values = True: \\t mean_total_reward = {results[i, j, 1]} \\n')"
   ]
  },
  {
   "cell_type": "markdown",
   "metadata": {},
   "source": [
    "Можно подобрать такие значения $ \\varepsilon $ и $ \\gamma $, что mean_total_reward значительно больше у агента, который запоминает v_values. Однако в целом, в заданной среде различия не так существенны и даже подобрать такие значения довольно проблематично."
   ]
  },
  {
   "cell_type": "markdown",
   "metadata": {},
   "source": [
    "## Задание 3 "
   ]
  },
  {
   "cell_type": "markdown",
   "metadata": {},
   "source": [
    "Написать Value Iteriation. Исследовать гиперпараметры (в том числе gamma). Cравнить с Policy Iteration. Поскольку в Policy Iteration есть еще внутренний цикл, то адекватным сравнением алгоритмов будет не графики их результативности относительно внешнего цикла, а графики относительно, например, количества обращения к среде. "
   ]
  },
  {
   "cell_type": "markdown",
   "metadata": {},
   "source": [
    "Определим 2 новые функции:\n",
    "\n",
    "$$\n",
    "v_{*}(s) = \\underset{\\pi}{max} \\, v_{\\pi}(s), \\quad q_{*}(s, a) = \\underset{\\pi}{max} \\, v_{\\pi}(s, a)\n",
    "$$\n",
    "\n",
    "Связь между ними выводится из соответствующих уравнений Беллмана:\n",
    "\n",
    "$$\n",
    "v_{*}(s) = \\underset{a \\in A}{max} \\, q_{*}(s, a), \\quad q_{*}(s, a) = R(s, a) + \\gamma \\sum_{s'} P(s'|s, a) v_{*}(s')\n",
    "$$\n",
    "\n",
    "В алгоритме Value Iteration вычисляются функции $ v_{*}(s), \\,\\,  q_{*}(s, a) $ в то время как в алгоритме Policy Iteration вычисляются  $ v_{\\pi}(s), \\,\\,  q_{\\pi}(s, a) $. Так как формулы вычисления $ q(s,a) $ по $ v(s) $ совпадают в написанной реализации Policy Iteration надо только изменить формулу вычисления $ v(s) $ по $ q(s, a) $.\n",
    "\n",
    "Реализация:\n",
    "\n",
    "```python\n",
    "    def policy_evaluation_step(self, v_values, policy, gamma, algo):\n",
    "\n",
    "            ...\n",
    "\n",
    "            if algo == 'policy':\n",
    "                for action in self.env.get_possible_actions(state):\n",
    "                    new_v_values[state] += policy[state][action] * q_values[state][action]\n",
    "            if algo == 'value':\n",
    "                try:\n",
    "                    new_v_values[state] = max(q_values[state].values())\n",
    "                except Exception:\n",
    "                    new_v_values[state] = 0\n",
    "```"
   ]
  },
  {
   "cell_type": "code",
   "execution_count": 14,
   "metadata": {},
   "outputs": [
    {
     "name": "stdout",
     "output_type": "stream",
     "text": [
      "[0.015, 0.964, 0.965, 0.969, 0.978, 0.966, 0.974, 0.973, 0.97, 0.971, 0.972, 0.955, 0.956, 0.963, 0.963, 0.968, 0.97, 0.966, 0.976, 0.964, 0.962]\n"
     ]
    },
    {
     "data": {
      "image/png": "[encoded data removed]",
      "text/plain": [
       "<Figure size 1000x600 with 1 Axes>"
      ]
     },
     "metadata": {},
     "output_type": "display_data"
    }
   ],
   "source": [
    "max_iter = 20\n",
    "eps = 0.0003\n",
    "gamma = 0.999\n",
    "algo = 'value'\n",
    "validation_n = 1000\n",
    "\n",
    "mean_rewards = iter_n_search(max_iter, eps, gamma, algo, validation_n)\n",
    "print(mean_rewards)"
   ]
  },
  {
   "cell_type": "markdown",
   "metadata": {},
   "source": [
    "Алгоритм сходится к оптимальной политики со второго шага. В дальнейшем будем рассматривать iter_n = 5. "
   ]
  },
  {
   "cell_type": "code",
   "execution_count": 15,
   "metadata": {},
   "outputs": [],
   "source": [
    "def grid_search(iter_n, params, validation_n):\n",
    "\n",
    "    results = np.zeros((params['gamma'].size, params['eps'].size, 2))\n",
    "\n",
    "    for i, gamma in tqdm(enumerate(params['gamma'])):\n",
    "        for j, eps in enumerate(params['eps']):\n",
    "            agent1 = DPAgent(env)\n",
    "            agent2 = DPAgent(env)\n",
    "            agent1.train(iter_n, eps, gamma, algo='policy')\n",
    "            agent2.train(iter_n, eps, gamma, algo='value')\n",
    "            mean_total_reward1 = agent1.validation(validation_n)\n",
    "            mean_total_reward2 = agent2.validation(validation_n)\n",
    "            results[i][j][0] = mean_total_reward1\n",
    "            results[i][j][1] = mean_total_reward2\n",
    "\n",
    "    return results"
   ]
  },
  {
   "cell_type": "code",
   "execution_count": 16,
   "metadata": {},
   "outputs": [],
   "source": [
    "params = {\n",
    "    'gamma': np.array([0.99, 0.9999]),\n",
    "    'eps': np.array([0.003, 0.000003])\n",
    "}"
   ]
  },
  {
   "cell_type": "code",
   "execution_count": 17,
   "metadata": {},
   "outputs": [
    {
     "name": "stderr",
     "output_type": "stream",
     "text": [
      "2it [00:44, 22.37s/it]\n"
     ]
    }
   ],
   "source": [
    "iter_n = 5\n",
    "validation_n = 1000\n",
    "\n",
    "results = grid_search(iter_n, params, validation_n)"
   ]
  },
  {
   "cell_type": "code",
   "execution_count": 18,
   "metadata": {},
   "outputs": [
    {
     "name": "stdout",
     "output_type": "stream",
     "text": [
      "gamma = 0.99,\t eps = 0.003, \t algo = 'policy': mean_total_reward = 0.843\n",
      "gamma = 0.99,\t eps = 0.003, \t algo = 'value' : mean_total_reward = 0.871 \n",
      "\n",
      "gamma = 0.99,\t eps = 3e-06, \t algo = 'policy': mean_total_reward = 0.862\n",
      "gamma = 0.99,\t eps = 3e-06, \t algo = 'value' : mean_total_reward = 0.863 \n",
      "\n",
      "gamma = 0.9999,\t eps = 0.003, \t algo = 'policy': mean_total_reward = 0.975\n",
      "gamma = 0.9999,\t eps = 0.003, \t algo = 'value' : mean_total_reward = 0.87 \n",
      "\n",
      "gamma = 0.9999,\t eps = 3e-06, \t algo = 'policy': mean_total_reward = 0.996\n",
      "gamma = 0.9999,\t eps = 3e-06, \t algo = 'value' : mean_total_reward = 0.998 \n",
      "\n"
     ]
    }
   ],
   "source": [
    "for i, gamma in enumerate(params['gamma']):\n",
    "    for j, eps in enumerate(params['eps']):\n",
    "        print(f'gamma = {gamma},\\t eps = {eps}, \\t algo = \\'policy\\': mean_total_reward = {results[i, j, 0]}')\n",
    "        print(f'gamma = {gamma},\\t eps = {eps}, \\t algo = \\'value\\' : mean_total_reward = {results[i, j, 1]} \\n')"
   ]
  }
 ],
 "metadata": {
  "kernelspec": {
   "display_name": "Python 3",
   "language": "python",
   "name": "python3"
  },
  "language_info": {
   "codemirror_mode": {
    "name": "ipython",
    "version": 3
   },
   "file_extension": ".py",
   "mimetype": "text/x-python",
   "name": "python",
   "nbconvert_exporter": "python",
   "pygments_lexer": "ipython3",
   "version": "3.11.1"
  }
 },
 "nbformat": 4,
 "nbformat_minor": 2
}
