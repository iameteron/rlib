{
 "cells": [
  {
   "cell_type": "code",
   "execution_count": 1,
   "id": "0bcb413d-d892-40f7-b7c2-71c9f8849a14",
   "metadata": {},
   "outputs": [
    {
     "name": "stderr",
     "output_type": "stream",
     "text": [
      "Warning: Gym version v0.24.0 has a number of critical issues with `gym.make` such that the `reset` and `step` functions are called before returning the environment. It is recommend to downgrading to v0.23.1 or upgrading to v0.25.1\n"
     ]
    }
   ],
   "source": [
    "import numpy as np\n",
    "import time\n",
    "import os\n",
    "from Frozen_Lake import FrozenLakeEnv\n",
    "\n",
    "env = FrozenLakeEnv()"
   ]
  },
  {
   "cell_type": "markdown",
   "id": "c1cea677-bfe6-4029-bd67-fa73931d0d95",
   "metadata": {},
   "source": [
    "Если награда не зависит от $s'$:\n",
    "$$\n",
    "q(s,a) = R(s, a) + \\gamma \\sum_{s'} P(s'|s,a) v(s')\n",
    "$$\n",
    "Если награда зависит от $s'$:\n",
    "$$\n",
    "q(s,a) = \\sum_{s'} P(s'|s,a) \\Big( R(s,a,s') + \\gamma v(s')\\Big)\n",
    "$$\n",
    "Если награда не зависит от $s'$ - это частный случай того, когда награда зависит от $s'$:\n",
    "$$\n",
    "q(s,a) = \\sum_{s'} P(s'|s,a) \\Big( R(s,a) + \\gamma v(s')\\Big) = R(s,a) \\sum_{s'} P(s'|s,a) + \\gamma \\sum_{s'} P(s'|s,a) v(s')\n",
    " = R(s, a) + \\gamma \\sum_{s'} P(s'|s,a) v(s')\n",
    "$$\n",
    "\n"
   ]
  },
  {
   "cell_type": "code",
   "execution_count": 2,
   "id": "b48c0b58-0990-4957-90cc-3987feeaf1f2",
   "metadata": {},
   "outputs": [],
   "source": [
    "def get_q_values(v_values, gamma):\n",
    "    q_values = {}\n",
    "    for state in env.get_all_states():\n",
    "        q_values[state] = {}\n",
    "        for action in env.get_possible_actions(state):\n",
    "            q_values[state][action] = 0\n",
    "            for next_state in env.get_next_states(state, action):\n",
    "                q_values[state][action] += env.get_transition_prob(state, action, next_state) * env.get_reward(state, action, next_state)\n",
    "                q_values[state][action] += gamma * env.get_transition_prob(state, action, next_state) * v_values[next_state]\n",
    "    return q_values"
   ]
  },
  {
   "cell_type": "code",
   "execution_count": 3,
   "id": "4dc79686-d690-4ff3-bbb4-f32e410bb4cc",
   "metadata": {},
   "outputs": [],
   "source": [
    "def init_policy():\n",
    "    policy = {}\n",
    "    for state in env.get_all_states():\n",
    "        policy[state] = {}\n",
    "        for action in env.get_possible_actions(state):\n",
    "            policy[state][action] = 1 / len(env.get_possible_actions(state))\n",
    "    return policy"
   ]
  },
  {
   "cell_type": "code",
   "execution_count": 4,
   "id": "76e7396a-760c-4287-b473-d96064d8d02b",
   "metadata": {},
   "outputs": [
    {
     "data": {
      "text/plain": [
       "{(0, 0): 0,\n",
       " (0, 1): 0,\n",
       " (0, 2): 0,\n",
       " (0, 3): 0,\n",
       " (1, 0): 0,\n",
       " (1, 1): 0,\n",
       " (1, 2): 0,\n",
       " (1, 3): 0,\n",
       " (2, 0): 0,\n",
       " (2, 1): 0,\n",
       " (2, 2): 0,\n",
       " (2, 3): 0,\n",
       " (3, 0): 0,\n",
       " (3, 1): 0,\n",
       " (3, 2): 0,\n",
       " (3, 3): 0}"
      ]
     },
     "execution_count": 4,
     "metadata": {},
     "output_type": "execute_result"
    }
   ],
   "source": [
    "def init_v_values():\n",
    "    v_values = {}\n",
    "    for state in env.get_all_states():\n",
    "        v_values[state] = 0\n",
    "    return v_values\n",
    "\n",
    "init_v_values()"
   ]
  },
  {
   "cell_type": "code",
   "execution_count": 5,
   "id": "348f9a1d-4df4-49fd-92f3-2aceafcf3c1c",
   "metadata": {},
   "outputs": [],
   "source": [
    "def policy_evaluation_step(v_values, policy, gamma):\n",
    "    q_values = get_q_values(v_values, gamma)\n",
    "    new_v_values = init_v_values()\n",
    "    for state in env.get_all_states():\n",
    "        new_v_values[state] = 0\n",
    "        for action in env.get_possible_actions(state):\n",
    "            new_v_values[state] += policy[state][action] * q_values[state][action]\n",
    "    return new_v_values"
   ]
  },
  {
   "cell_type": "code",
   "execution_count": 19,
   "id": "aa145fed-9a3a-49bb-95f8-a6efc7b7f496",
   "metadata": {},
   "outputs": [],
   "source": [
    "def policy_evaluation(policy, gamma, eval_iter_n):\n",
    "    v_values = init_v_values()\n",
    "    new_v_values = policy_evaluation_step(v_values, policy, gamma)\n",
    "    delta_v = abs(np.array(list(v_values.values())) - np.array(list(new_v_values.values())))\n",
    "\n",
    "    eps = 0.01\n",
    "    while(max(delta_v) > eps):\n",
    "        v_values = new_v_values\n",
    "        new_v_values = policy_evaluation_step(v_values, policy, gamma)\n",
    "        delta_v = abs(np.array(list(v_values.values())) - np.array(list(new_v_values.values())))\n",
    "        \n",
    "    q_values = get_q_values(v_values, gamma)\n",
    "    return q_values"
   ]
  },
  {
   "cell_type": "code",
   "execution_count": 17,
   "id": "7236983d-04c1-4a45-b93d-fb4b10834516",
   "metadata": {},
   "outputs": [],
   "source": [
    "def policy_improvement(q_values):\n",
    "    policy = {}\n",
    "    for state in env.get_all_states():\n",
    "        policy[state] = {}\n",
    "        argmax_action = None\n",
    "        max_q_value = float('-inf')\n",
    "        for action in env.get_possible_actions(state): \n",
    "            policy[state][action] = 0\n",
    "            if q_values[state][action] > max_q_value:\n",
    "                argmax_action = action\n",
    "                max_q_value = q_values[state][action]\n",
    "        policy[state][argmax_action] = 1\n",
    "    return policy"
   ]
  },
  {
   "cell_type": "markdown",
   "id": "26c33dc7",
   "metadata": {},
   "source": [
    "Тренировка: evaluation + improvement"
   ]
  },
  {
   "cell_type": "code",
   "execution_count": 20,
   "id": "7e23f38e-0ce9-4265-9c10-2e8a4c320f50",
   "metadata": {},
   "outputs": [],
   "source": [
    "iter_n = 1000\n",
    "eval_iter_n = 100\n",
    "gamma = 0.999\n",
    "\n",
    "policy = init_policy()\n",
    "for _ in range(iter_n):\n",
    "    q_values = policy_evaluation(policy, gamma, eval_iter_n)\n",
    "    policy = policy_improvement(q_values)"
   ]
  },
  {
   "cell_type": "code",
   "execution_count": 9,
   "metadata": {},
   "outputs": [
    {
     "data": {
      "text/plain": [
       "{(0, 0): {'left': 0.8457375418648228,\n",
       "  'down': 0.8463471369266533,\n",
       "  'right': 0.830179726547895,\n",
       "  'up': 0.8434279118107144},\n",
       " (0, 1): {'left': 0.7588906479381814,\n",
       "  'down': 0.1662921229228293,\n",
       "  'right': 0.736631409360287,\n",
       "  'up': 0.8270324185861658},\n",
       " (0, 2): {'left': 0.8186337759153014,\n",
       "  'down': 0.7720262121949417,\n",
       "  'right': 0.8004911252413724,\n",
       "  'up': 0.816956114983963},\n",
       " (0, 3): {'left': 0.734363578026046,\n",
       "  'down': 0.16207956467397222,\n",
       "  'right': 0.7229223506130836,\n",
       "  'up': 0.8046772096633799},\n",
       " (1, 0): {'left': 0.8499713256486713,\n",
       "  'down': 0.7746359724515057,\n",
       "  'right': 0.17075398955246807,\n",
       "  'up': 0.7612002779922897},\n",
       " (1, 1): {},\n",
       " (1, 2): {'left': 0.1770235884738408,\n",
       "  'down': 0.7621498353883566,\n",
       "  'right': 0.1770235884738408,\n",
       "  'up': 0.65403887240237},\n",
       " (1, 3): {},\n",
       " (2, 0): {'left': 0.7746359724515057,\n",
       "  'down': 0.183484261021784,\n",
       "  'right': 0.863042449746817,\n",
       "  'up': 0.8627015971179872},\n",
       " (2, 1): {'left': 0.7887544775156872,\n",
       "  'down': 0.973650831713135,\n",
       "  'right': 0.8611705074645635,\n",
       "  'up': 0.1814854551034796},\n",
       " (2, 2): {'left': 0.953642669583852,\n",
       "  'down': 0.8921776605209834,\n",
       "  'right': 0.1755023868490604,\n",
       "  'up': 0.7063765049551975},\n",
       " (2, 3): {},\n",
       " (3, 0): {},\n",
       " (3, 1): {'left': 0.1962882074180559,\n",
       "  'down': 0.8915291422570473,\n",
       "  'right': 0.9911983325971903,\n",
       "  'up': 0.8775040483821834},\n",
       " (3, 2): {'left': 0.9867978716805919,\n",
       "  'down': 0.9939307972553413,\n",
       "  'right': 0.9946324950709364,\n",
       "  'up': 0.9611705074645635},\n",
       " (3, 3): {}}"
      ]
     },
     "execution_count": 9,
     "metadata": {},
     "output_type": "execute_result"
    }
   ],
   "source": [
    "policy_evaluation(policy, gamma, eval_iter_n)"
   ]
  },
  {
   "cell_type": "code",
   "execution_count": 21,
   "id": "7259a73b-deed-4675-92c6-329909768f49",
   "metadata": {},
   "outputs": [
    {
     "data": {
      "text/plain": [
       "0.8514"
      ]
     },
     "execution_count": 21,
     "metadata": {},
     "output_type": "execute_result"
    }
   ],
   "source": [
    "total_rewards = []\n",
    "\n",
    "for _ in range(5000):\n",
    "    total_reward = 0\n",
    "    state = env.reset()\n",
    "    for _ in range(1000):\n",
    "        action = np.random.choice(env.get_possible_actions(state), p=list(policy[state].values()))\n",
    "        state, reward, done, _ = env.step(action)\n",
    "        total_reward += reward\n",
    "        \n",
    "        if done:\n",
    "            break\n",
    "    \n",
    "    total_rewards.append(total_reward)\n",
    "\n",
    "np.mean(total_rewards)"
   ]
  },
  {
   "cell_type": "code",
   "execution_count": 11,
   "id": "9c9d126a-3ada-4794-84c0-3b223ee97805",
   "metadata": {},
   "outputs": [
    {
     "data": {
      "text/plain": [
       "{(0, 0): {'left': 0, 'down': 1, 'right': 0, 'up': 0},\n",
       " (0, 1): {'left': 0, 'down': 0, 'right': 0, 'up': 1},\n",
       " (0, 2): {'left': 1, 'down': 0, 'right': 0, 'up': 0},\n",
       " (0, 3): {'left': 0, 'down': 0, 'right': 0, 'up': 1},\n",
       " (1, 0): {'left': 1, 'down': 0, 'right': 0, 'up': 0},\n",
       " (1, 1): {None: 1},\n",
       " (1, 2): {'left': 0, 'down': 1, 'right': 0, 'up': 0},\n",
       " (1, 3): {None: 1},\n",
       " (2, 0): {'left': 0, 'down': 0, 'right': 1, 'up': 0},\n",
       " (2, 1): {'left': 0, 'down': 1, 'right': 0, 'up': 0},\n",
       " (2, 2): {'left': 1, 'down': 0, 'right': 0, 'up': 0},\n",
       " (2, 3): {None: 1},\n",
       " (3, 0): {None: 1},\n",
       " (3, 1): {'left': 0, 'down': 0, 'right': 1, 'up': 0},\n",
       " (3, 2): {'left': 0, 'down': 0, 'right': 1, 'up': 0},\n",
       " (3, 3): {None: 1}}"
      ]
     },
     "execution_count": 11,
     "metadata": {},
     "output_type": "execute_result"
    }
   ],
   "source": [
    "policy"
   ]
  },
  {
   "cell_type": "code",
   "execution_count": 12,
   "id": "a1b0eae9",
   "metadata": {},
   "outputs": [],
   "source": [
    "from IPython.display import clear_output"
   ]
  },
  {
   "cell_type": "code",
   "execution_count": 13,
   "id": "a7d63fe5-59b5-4e72-863c-1ed3808557e8",
   "metadata": {},
   "outputs": [
    {
     "name": "stdout",
     "output_type": "stream",
     "text": [
      "SFFF\n",
      "*HFH\n",
      "FFFH\n",
      "HFFG\n",
      "\n"
     ]
    },
    {
     "ename": "KeyboardInterrupt",
     "evalue": "",
     "output_type": "error",
     "traceback": [
      "\u001b[1;31m---------------------------------------------------------------------------\u001b[0m",
      "\u001b[1;31mKeyboardInterrupt\u001b[0m                         Traceback (most recent call last)",
      "\u001b[1;32mc:\\Users\\никита\\Desktop\\учеба\\ml\\ods reinforcment learning\\3. Policy Iteration\\practice3.2.ipynb Cell 15\u001b[0m line \u001b[0;36m9\n\u001b[0;32m      <a href='vscode-notebook-cell:/c%3A/Users/%D0%BD%D0%B8%D0%BA%D0%B8%D1%82%D0%B0/Desktop/%D1%83%D1%87%D0%B5%D0%B1%D0%B0/ml/ods%20reinforcment%20learning/3.%20Policy%20Iteration/practice3.2.ipynb#X21sZmlsZQ%3D%3D?line=6'>7</a>\u001b[0m clear_output(wait\u001b[39m=\u001b[39m\u001b[39mTrue\u001b[39;00m)\n\u001b[0;32m      <a href='vscode-notebook-cell:/c%3A/Users/%D0%BD%D0%B8%D0%BA%D0%B8%D1%82%D0%B0/Desktop/%D1%83%D1%87%D0%B5%D0%B1%D0%B0/ml/ods%20reinforcment%20learning/3.%20Policy%20Iteration/practice3.2.ipynb#X21sZmlsZQ%3D%3D?line=7'>8</a>\u001b[0m env\u001b[39m.\u001b[39mrender()\n\u001b[1;32m----> <a href='vscode-notebook-cell:/c%3A/Users/%D0%BD%D0%B8%D0%BA%D0%B8%D1%82%D0%B0/Desktop/%D1%83%D1%87%D0%B5%D0%B1%D0%B0/ml/ods%20reinforcment%20learning/3.%20Policy%20Iteration/practice3.2.ipynb#X21sZmlsZQ%3D%3D?line=8'>9</a>\u001b[0m time\u001b[39m.\u001b[39;49msleep(\u001b[39m1\u001b[39;49m)\n\u001b[0;32m     <a href='vscode-notebook-cell:/c%3A/Users/%D0%BD%D0%B8%D0%BA%D0%B8%D1%82%D0%B0/Desktop/%D1%83%D1%87%D0%B5%D0%B1%D0%B0/ml/ods%20reinforcment%20learning/3.%20Policy%20Iteration/practice3.2.ipynb#X21sZmlsZQ%3D%3D?line=10'>11</a>\u001b[0m \u001b[39mif\u001b[39;00m done:\n\u001b[0;32m     <a href='vscode-notebook-cell:/c%3A/Users/%D0%BD%D0%B8%D0%BA%D0%B8%D1%82%D0%B0/Desktop/%D1%83%D1%87%D0%B5%D0%B1%D0%B0/ml/ods%20reinforcment%20learning/3.%20Policy%20Iteration/practice3.2.ipynb#X21sZmlsZQ%3D%3D?line=11'>12</a>\u001b[0m     \u001b[39mbreak\u001b[39;00m\n",
      "\u001b[1;31mKeyboardInterrupt\u001b[0m: "
     ]
    }
   ],
   "source": [
    "state = env.reset()\n",
    "for _ in range(1000):\n",
    "    action = np.random.choice(env.get_possible_actions(state), p=list(policy[state].values()))\n",
    "    state, reward, done, _ = env.step(action)\n",
    "    total_reward += reward\n",
    "\n",
    "    clear_output(wait=True)\n",
    "    env.render()\n",
    "    time.sleep(1)\n",
    "    \n",
    "    if done:\n",
    "        break"
   ]
  },
  {
   "cell_type": "code",
   "execution_count": null,
   "id": "55c652f6-6cfc-49ba-b7d6-dbe2bcb118c1",
   "metadata": {},
   "outputs": [],
   "source": []
  }
 ],
 "metadata": {
  "kernelspec": {
   "display_name": "Python 3 (ipykernel)",
   "language": "python",
   "name": "python3"
  },
  "language_info": {
   "codemirror_mode": {
    "name": "ipython",
    "version": 3
   },
   "file_extension": ".py",
   "mimetype": "text/x-python",
   "name": "python",
   "nbconvert_exporter": "python",
   "pygments_lexer": "ipython3",
   "version": "3.11.1"
  }
 },
 "nbformat": 4,
 "nbformat_minor": 5
}
